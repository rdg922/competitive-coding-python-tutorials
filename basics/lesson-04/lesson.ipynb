{
  "nbformat": 4,
  "nbformat_minor": 0,
  "metadata": {
    "colab": {
      "name": "Untitled1.ipynb",
      "provenance": [],
      "authorship_tag": "ABX9TyNoQhzYGPN+J7zkNnWiqdJB",
      "include_colab_link": true
    },
    "kernelspec": {
      "name": "python3",
      "display_name": "Python 3"
    },
    "language_info": {
      "name": "python"
    }
  },
  "cells": [
    {
      "cell_type": "markdown",
      "metadata": {
        "id": "view-in-github",
        "colab_type": "text"
      },
      "source": [
        "<a href=\"https://colab.research.google.com/github/rdg922/python-lessons/blob/master/basics/lesson-04/lesson.ipynb\" target=\"_parent\"><img src=\"https://colab.research.google.com/assets/colab-badge.svg\" alt=\"Open In Colab\"/></a>"
      ]
    },
    {
      "cell_type": "markdown",
      "source": [
        "# Lesson 4\n",
        "*Creating and reading from a list*\n",
        "* Creating a list\n",
        "* Getting elements\n",
        "* Getting the last elements\n",
        "* Adding to a list with append()\n",
        "* Using loops"
      ],
      "metadata": {
        "id": "xXj3ZNjGIB_s"
      }
    },
    {
      "cell_type": "markdown",
      "source": [
        "## Lists\n",
        "\n",
        "Lists allow us to hold more than one value in a single variable.\n",
        "\n",
        "To denote a list we use square brackets and separate each item in the list with a comma"
      ],
      "metadata": {
        "id": "thmyiBBhsKSJ"
      }
    },
    {
      "cell_type": "code",
      "source": [
        "my_list = [\"bananas\", 1, 1.2, True]\n",
        "print(my_list)"
      ],
      "metadata": {
        "id": "3jPz22uCssk_"
      },
      "execution_count": null,
      "outputs": []
    },
    {
      "cell_type": "markdown",
      "source": [
        "As you can see, we can have values of different types in lists in Python\n",
        "\n",
        "Lists are ordered, changeable, and allow duplicates:\n"
      ],
      "metadata": {
        "id": "Hoa-b71rs4Up"
      }
    },
    {
      "cell_type": "markdown",
      "source": [
        "Practice: Create a list that prints out the following output:"
      ],
      "metadata": {
        "id": "qdZxhr2iJuk3"
      }
    },
    {
      "cell_type": "code",
      "source": [
        "#@title Print this list yourself:\n",
        "print([1, \"potato\", True, \"bruh\"])"
      ],
      "metadata": {
        "cellView": "form",
        "id": "8645hNaYJWQ9"
      },
      "execution_count": null,
      "outputs": []
    },
    {
      "cell_type": "code",
      "source": [
        "# Your solution here"
      ],
      "metadata": {
        "id": "dHVhlkeZJ8-P"
      },
      "execution_count": null,
      "outputs": []
    },
    {
      "cell_type": "markdown",
      "source": [
        "Practice: Take in two numbers. **a** and **b**. Print the list [a, b] if a is less than b, or [b, a] if b is less than a.\n",
        "\n",
        "Example Input:\n",
        "```\n",
        "1\n",
        "2\n",
        "```\n",
        "\n",
        "Example Output:\n",
        "```\n",
        "[1, 2]\n",
        "```\n",
        "\n",
        "\n",
        "Example Input:\n",
        "```\n",
        "7\n",
        "2\n",
        "```\n",
        "\n",
        "Example Output:\n",
        "```\n",
        "[2, 7]\n",
        "```"
      ],
      "metadata": {
        "id": "k9nn3Hs3J_wB"
      }
    },
    {
      "cell_type": "code",
      "source": [
        "#@title Solution\n",
        "a = int(input())\n",
        "b = int(input())\n",
        "print(sorted([a, b])) # This works, but you won't know how it works just yet\n",
        "\n",
        "if a < b:\n",
        "  print([a, b])\n",
        "else:\n",
        "  print([b, a])"
      ],
      "metadata": {
        "cellView": "form",
        "id": "0AdmG_PAKwmS"
      },
      "execution_count": null,
      "outputs": []
    },
    {
      "cell_type": "code",
      "source": [
        "# Your solution here:"
      ],
      "metadata": {
        "id": "XKCuXHY6LNpg"
      },
      "execution_count": null,
      "outputs": []
    },
    {
      "cell_type": "markdown",
      "source": [
        "\n",
        "### Getting elements\n",
        "\n",
        "Using the *index* of an element surrounded by square brackets, we can get an element of the list "
      ],
      "metadata": {
        "id": "D3E_YgYxJVQe"
      }
    },
    {
      "cell_type": "code",
      "source": [
        "print(my_list[0]) # Gets the very first element \"bananas\""
      ],
      "metadata": {
        "id": "gZoGmD2tMkmh"
      },
      "execution_count": null,
      "outputs": []
    },
    {
      "cell_type": "markdown",
      "source": [
        "Lists are ordered, meaning getting items in the list is based on the number you put in to the square brackets."
      ],
      "metadata": {
        "id": "Rt80MsTaM7AP"
      }
    },
    {
      "cell_type": "markdown",
      "source": [
        "Practice:\n",
        "Print the third element of the list **my_list**"
      ],
      "metadata": {
        "id": "CjtbWGw-LUYp"
      }
    },
    {
      "cell_type": "code",
      "source": [
        "#@title Hidden list. Do not look!\n",
        "my_list = [\"Not the right element!\"] * 2 + [\"Right Element!\"] + [\"Not the Right Element!\"]"
      ],
      "metadata": {
        "cellView": "form",
        "id": "mXw0AyKAMVT0"
      },
      "execution_count": null,
      "outputs": []
    },
    {
      "cell_type": "code",
      "source": [
        "#@title Solution\n",
        "print(my_list[2])"
      ],
      "metadata": {
        "cellView": "form",
        "id": "xFwqY8XBNKkD"
      },
      "execution_count": null,
      "outputs": []
    },
    {
      "cell_type": "code",
      "source": [
        "# Your solution here:"
      ],
      "metadata": {
        "id": "DhS91Kf_LTy7"
      },
      "execution_count": null,
      "outputs": []
    },
    {
      "cell_type": "markdown",
      "source": [
        "Practice: The list **my_list** has 5 elements. Print the last element"
      ],
      "metadata": {
        "id": "IKNYqPu0NyzM"
      }
    },
    {
      "cell_type": "code",
      "source": [
        "#@title Hidden list. Do not look!\n",
        "my_list = [\"Not the right element!\"] * 4 + [\"Right Element!\"]"
      ],
      "metadata": {
        "cellView": "form",
        "id": "EL5GFmU-Nu0l"
      },
      "execution_count": null,
      "outputs": []
    },
    {
      "cell_type": "code",
      "source": [
        "#@title Solution\n",
        "print(my_list[4])"
      ],
      "metadata": {
        "cellView": "form",
        "id": "us9IQCMqNu0m"
      },
      "execution_count": null,
      "outputs": []
    },
    {
      "cell_type": "code",
      "source": [
        "# Your solution here:"
      ],
      "metadata": {
        "id": "64UwfKUaNu0n"
      },
      "execution_count": null,
      "outputs": []
    },
    {
      "cell_type": "markdown",
      "source": [
        "### Getting length of a list\n",
        "\n",
        "Use the len() function:\n",
        "\n"
      ],
      "metadata": {
        "id": "h_0QNb_HNIw2"
      }
    },
    {
      "cell_type": "code",
      "source": [
        "my_list = [1, 2, 3] # Edit this list to whatever you want\n",
        "length_of_my_list = len(my_list)\n",
        "print(length_of_my_list)"
      ],
      "metadata": {
        "id": "NIW6PHFeNRUa"
      },
      "execution_count": null,
      "outputs": []
    },
    {
      "cell_type": "markdown",
      "source": [
        "Practice: Print the last element of this hidden list **my_list**"
      ],
      "metadata": {
        "id": "tvHSAc2WObXR"
      }
    },
    {
      "cell_type": "code",
      "source": [
        "#@title Hidden list. Do not look!\n",
        "my_list = [\"Not the Right Element!\", \"Right Element!\"]"
      ],
      "metadata": {
        "cellView": "form",
        "id": "D-v5h4HvOsmP"
      },
      "execution_count": null,
      "outputs": []
    },
    {
      "cell_type": "code",
      "source": [
        "#@title Solution\n",
        "print(my_list[len(my_list) - 1])"
      ],
      "metadata": {
        "cellView": "form",
        "id": "9ysMJDEPPgqR"
      },
      "execution_count": null,
      "outputs": []
    },
    {
      "cell_type": "markdown",
      "source": [
        "### Negative Indexing\n",
        "\n",
        "There are two ways of getting the last element in the list:"
      ],
      "metadata": {
        "id": "c500VhpvPZFJ"
      }
    },
    {
      "cell_type": "code",
      "source": [
        "negative_indexing_example_list = [\"apple\", \"orange\", \"banana\", \"watermelon\", \"tomato\"]\n",
        "print(my_list[len(my_list) - 1])"
      ],
      "metadata": {
        "id": "BmipKmZzPhrs"
      },
      "execution_count": null,
      "outputs": []
    },
    {
      "cell_type": "markdown",
      "source": [
        "This works because the position of the last element of a list will always be the size of the list - 1"
      ],
      "metadata": {
        "id": "Esz0nCaZPmcy"
      }
    },
    {
      "cell_type": "markdown",
      "source": [
        "The second way, looks like this. It uses negative indexing:"
      ],
      "metadata": {
        "id": "ksdSW5hVQJ0m"
      }
    },
    {
      "cell_type": "code",
      "source": [
        "print(my_list[-1])"
      ],
      "metadata": {
        "id": "JgeC6mbeQMOw"
      },
      "execution_count": null,
      "outputs": []
    },
    {
      "cell_type": "markdown",
      "source": [
        "Try using other negative numbers:"
      ],
      "metadata": {
        "id": "eDdQwyOrQ0Ig"
      }
    },
    {
      "cell_type": "code",
      "source": [
        "print(my_list[-2]) # Try other numbers"
      ],
      "metadata": {
        "id": "bZ6vfc9cQC_f"
      },
      "execution_count": null,
      "outputs": []
    },
    {
      "cell_type": "markdown",
      "source": [
        "What negative number gets you the first element?"
      ],
      "metadata": {
        "id": "hPLf0JWcRwvO"
      }
    },
    {
      "cell_type": "code",
      "source": [
        "#@title Think you know the answer? Run me!\n",
        "print(\"Yep!\" if int(input(\"Your guess: \")) == -5 else \"Nope!\") "
      ],
      "metadata": {
        "cellView": "form",
        "id": "opuq5JduR2sc"
      },
      "execution_count": null,
      "outputs": []
    },
    {
      "cell_type": "markdown",
      "source": [
        "### Using loops"
      ],
      "metadata": {
        "id": "Teseo_leTe6u"
      }
    },
    {
      "cell_type": "markdown",
      "source": [
        "Here's an example of how we can use a loop:"
      ],
      "metadata": {
        "id": "Y1GumLzhTrTv"
      }
    },
    {
      "cell_type": "code",
      "source": [
        "my_words = [\"first\", \"second\", \"third\", \"fourth\", \"fifth\"]\n",
        "for index in range(5):\n",
        "  print(my_words[index])"
      ],
      "metadata": {
        "id": "qNep7l-hTed5"
      },
      "execution_count": null,
      "outputs": []
    },
    {
      "cell_type": "markdown",
      "source": [
        "Practice: using range(), and len(). Print the entire list *my_words* on separate lines. Do not use the number 5!"
      ],
      "metadata": {
        "id": "Un_ynlyqVXMo"
      }
    },
    {
      "cell_type": "code",
      "source": [
        "#@title Solution:\n",
        "for i in range(len(my_words)):\n",
        "  print(my_words[i])"
      ],
      "metadata": {
        "cellView": "form",
        "id": "afz1X6XQD1oR"
      },
      "execution_count": null,
      "outputs": []
    },
    {
      "cell_type": "code",
      "source": [
        ""
      ],
      "metadata": {
        "id": "4yu5sB1rEDnQ"
      },
      "execution_count": null,
      "outputs": []
    },
    {
      "cell_type": "markdown",
      "source": [
        "Practice: Print all the items in the list *my_list* individually, **except** for the very last item"
      ],
      "metadata": {
        "id": "5lz5rFyJUk-6"
      }
    },
    {
      "cell_type": "code",
      "source": [
        "#@title Hidden list. Do not look!\n",
        "my_list = [\"this\", \"is\", \"the\", \"correct\", \"answer\", \"except nevermind you didn't omit this item in the list so this doesn't count\"]"
      ],
      "metadata": {
        "cellView": "form",
        "id": "V7BO6lzCUJED"
      },
      "execution_count": null,
      "outputs": []
    },
    {
      "cell_type": "code",
      "source": [
        ""
      ],
      "metadata": {
        "id": "1-pjFl3yVM0X"
      },
      "execution_count": null,
      "outputs": []
    },
    {
      "cell_type": "markdown",
      "source": [
        "Practice: Take\n",
        "The list *my_list* has uniques integer (there may not be 2 of a single number). Take in an integer and print the index of the integer. If it is not in the list, print -1."
      ],
      "metadata": {
        "id": "rlLAe3ELN58H"
      }
    },
    {
      "cell_type": "code",
      "source": [
        "#@title Hidden list. Do not look inside!\n",
        "\n",
        "my_list = [1, 2, 3, 4, 5, 6, 9, 11, 0]"
      ],
      "metadata": {
        "id": "Lw4KTHHnObaE"
      },
      "execution_count": 2,
      "outputs": []
    },
    {
      "cell_type": "code",
      "source": [
        "#@title Solution\n",
        "\n",
        "integer_index = -1\n",
        "number_to_find = int(input())\n",
        "for i in range(len(my_list)):\n",
        "  if my_list[i] == number_to_find:\n",
        "    integer_index = i\n",
        "print(integer_index)\n"
      ],
      "metadata": {
        "cellView": "form",
        "id": "8liHibBoN5mr"
      },
      "execution_count": null,
      "outputs": []
    }
  ]
}