{
  "nbformat": 4,
  "nbformat_minor": 0,
  "metadata": {
    "colab": {
      "name": "lesson.ipynb",
      "provenance": [],
      "collapsed_sections": [],
      "authorship_tag": "ABX9TyODbxDMpOJ0W0CCMnhFUnGY",
      "include_colab_link": true
    },
    "kernelspec": {
      "name": "python3",
      "display_name": "Python 3"
    },
    "language_info": {
      "name": "python"
    }
  },
  "cells": [
    {
      "cell_type": "markdown",
      "metadata": {
        "id": "view-in-github",
        "colab_type": "text"
      },
      "source": [
        "<a href=\"https://colab.research.google.com/github/rdg922/python-lessons/blob/master/basics/lesson-03/lesson.ipynb\" target=\"_parent\"><img src=\"https://colab.research.google.com/assets/colab-badge.svg\" alt=\"Open In Colab\"/></a>"
      ]
    },
    {
      "cell_type": "markdown",
      "source": [
        "# Lesson 3 - More Loops and Functions\n",
        "* More loops\n",
        "  * While loops\n",
        "  * Break\n",
        "  * Continue\n",
        "  * Infinite loops\n",
        "* Functions\n",
        "  * Defining\n",
        "  * Executing\n",
        "  * Parameters\n",
        "  * Return values\n",
        "\n",
        "### Note:\n",
        "This lesson is a little different. There are little example that you can run to see the intended behavior. If you get stuck you can look at the code. "
      ],
      "metadata": {
        "id": "X3PW6AyDxdYg"
      }
    },
    {
      "cell_type": "markdown",
      "source": [
        "### While Loops\n",
        "Sometimes, you may not know how many times a program will run certain code. In such cases, we can use a while loop:"
      ],
      "metadata": {
        "id": "NgPXcTzNyFLe"
      }
    },
    {
      "cell_type": "code",
      "source": [
        "i = 1\n",
        "while i < 100:\n",
        "  print(i)\n",
        "  i += i"
      ],
      "metadata": {
        "id": "smYfuHlTzgx-"
      },
      "execution_count": null,
      "outputs": []
    },
    {
      "cell_type": "markdown",
      "source": [
        "Practice: Explain why a number greater than 100 is never printed"
      ],
      "metadata": {
        "id": "iVx3o_Gqz_2N"
      }
    },
    {
      "cell_type": "code",
      "source": [
        "\"\"\"Type here, feel free to write on more than one line between the \"\"\" \"\"\"\n",
        "\n",
        "\"\"\""
      ],
      "metadata": {
        "id": "Pz2M5YJQ0GY0"
      },
      "execution_count": null,
      "outputs": []
    },
    {
      "cell_type": "markdown",
      "source": [
        "You can also keep track of how many times your loop has occurred:\n",
        "\n",
        "Put 3 in the input for the next code cell:"
      ],
      "metadata": {
        "id": "b29qfULO0QOi"
      }
    },
    {
      "cell_type": "code",
      "source": [
        "my_number = int(input())\n",
        "times_looped = 0\n",
        "while my_number == 3:\n",
        "  times_looped += 1\n",
        "  print(\"You've typed 3\", times_looped, \"times\")\n",
        "  my_number = int(input(\"Type 3 to keep the loop going: \"))\n",
        "print(\"Your number is not 3 anymore :(\")\n"
      ],
      "metadata": {
        "id": "EPeUiJYlxc6l"
      },
      "execution_count": null,
      "outputs": []
    },
    {
      "cell_type": "markdown",
      "source": [
        "### Break\n",
        "If we want to exit a loop, we can use the ```break``` keyword:\n"
      ],
      "metadata": {
        "id": "1kte6FSk0nAD"
      }
    },
    {
      "cell_type": "code",
      "source": [
        "while True:\n",
        "  word = input(\"Input a command here: \")\n",
        "  if word == \"Exit please!\":\n",
        "    print(\"Command recognized.\")\n",
        "    break\n",
        "  else:\n",
        "    print(\"Command not recognized. Try again\")\n",
        "print(\"Exited loop.\")"
      ],
      "metadata": {
        "id": "Akk9Mz5C0wa2"
      },
      "execution_count": null,
      "outputs": []
    },
    {
      "cell_type": "markdown",
      "source": [
        "Practice: Create a loop similar to the one above. Ask the user before the loop for the exact exit command to recognize instead of \"Exit please!\"\n",
        "\n",
        "Also, do not hit showcode "
      ],
      "metadata": {
        "id": "C-KByhL71cFl"
      }
    },
    {
      "cell_type": "code",
      "source": [
        "#@title Try me! \n",
        "\n",
        "exit_command = input(\"Input an exit command:\")\n",
        "while True:\n",
        "  word = input(\"Input a command here: \")\n",
        "  if word == exit_command:\n",
        "    print(\"Command recognized.\")\n",
        "    break\n",
        "  else:\n",
        "    print(\"Command not recognized. Try again\")\n",
        "print(\"Exited loop.\")\n"
      ],
      "metadata": {
        "cellView": "form",
        "id": "BnHs5diV2bkb"
      },
      "execution_count": null,
      "outputs": []
    },
    {
      "cell_type": "code",
      "source": [
        "# Recreate the code here:"
      ],
      "metadata": {
        "id": "6sbB1CyQkqbj"
      },
      "execution_count": null,
      "outputs": []
    },
    {
      "cell_type": "markdown",
      "source": [
        "### Continue\n",
        "\n",
        "Sometimes you may want not want to break the loop, but stop the loop from iterating over a certain value or when a condition is met:"
      ],
      "metadata": {
        "id": "U_uMrGGflDzr"
      }
    },
    {
      "cell_type": "code",
      "source": [
        "i = 0\n",
        "while i < 10:\n",
        "  i += 1\n",
        "  if i % 2 == 0:\n",
        "    continue\n",
        "  print(i)"
      ],
      "metadata": {
        "id": "67TldLE0lSEw"
      },
      "execution_count": null,
      "outputs": []
    },
    {
      "cell_type": "markdown",
      "source": [
        "Practice: Write some code that executes the same as the code cell above **without** using a ```continue``` or ```break```. \n",
        "\n",
        "<details closed>\n",
        "<summary>Hint</summary>\n",
        "<br>\n",
        "Use ```if```, ```else``` or ```elif``` statements\n",
        "</details>"
      ],
      "metadata": {
        "id": "GgDm4Gmen30a"
      }
    },
    {
      "cell_type": "code",
      "source": [
        "#@title Solution code. But try yourself first!\n",
        "i = 0\n",
        "while i < 10:\n",
        "  i += 1\n",
        "  if i % 2 != 0:\n",
        "    print(i)"
      ],
      "metadata": {
        "cellView": "form",
        "id": "1YCOlj5an-Hi"
      },
      "execution_count": null,
      "outputs": []
    },
    {
      "cell_type": "markdown",
      "source": [
        "### For loop review\n",
        "\n",
        "You can use all of the above in a for loop as well!\n",
        "\n",
        "Practice: Write a program that will draw a triangle such as the one below\n",
        "\n",
        "```\n",
        "*\n",
        "**\n",
        "***\n",
        "****\n",
        "```\n",
        "\n",
        "**but** it will skip printing any line that is 3, 5 or 8 wide\n",
        "\n",
        "Try it out here:"
      ],
      "metadata": {
        "id": "xUuxfRzsMJLx"
      }
    },
    {
      "cell_type": "code",
      "source": [
        "#@title Try it out here.\n",
        "n = int(input(\"Input a number: \"))\n",
        "for i in range(1, n+1):\n",
        "  if i == 3 or i == 5 or i == 8:\n",
        "    continue\n",
        "  output = \"\"\n",
        "  for j in range(0, i):\n",
        "    output += \"x\"\n",
        "  print(output)"
      ],
      "metadata": {
        "cellView": "form",
        "id": "kU6DPBHPNWK8"
      },
      "execution_count": null,
      "outputs": []
    },
    {
      "cell_type": "code",
      "source": [
        "# Your turn, try to make the program here:"
      ],
      "metadata": {
        "id": "_VOB2iUSNz52"
      },
      "execution_count": null,
      "outputs": []
    },
    {
      "cell_type": "markdown",
      "source": [
        "### Infinite loops:\n",
        "\n",
        "Be careful with while loops because if the condition at the beginning loop never finishes, the program will crash"
      ],
      "metadata": {
        "id": "WAC7_pEEsQ9K"
      }
    },
    {
      "cell_type": "code",
      "source": [
        "while True:\n",
        "  print(\"This loop will run forever! Press the square to the see program crash\")"
      ],
      "metadata": {
        "id": "rsfH38TlsE8D"
      },
      "execution_count": null,
      "outputs": []
    },
    {
      "cell_type": "markdown",
      "source": [
        "### Functions\n",
        "\n",
        "Functions are those little ```function functionName() {}``` or ```() => {}``` looking thing from JavaScript. Hopefully after todays lesson you'll understand a bit more about functions in python and how they differ from JavaScript functions"
      ],
      "metadata": {
        "id": "VlzN_-sEpGgi"
      }
    },
    {
      "cell_type": "markdown",
      "source": [
        "### What is a function?\n",
        "\n",
        "A function is a self contained segment of code that a programmer defines.  "
      ],
      "metadata": {
        "id": "k8MdbjlEpoqd"
      }
    },
    {
      "cell_type": "markdown",
      "source": [
        "### Defining and executing a function"
      ],
      "metadata": {
        "id": "oK4pthAwp2ek"
      }
    },
    {
      "cell_type": "markdown",
      "source": [
        "#### Defining"
      ],
      "metadata": {
        "id": "vCXxQQ5JqqgF"
      }
    },
    {
      "cell_type": "code",
      "source": [
        "def my_first_function():\n",
        "  print(\"This is my first function!\")"
      ],
      "metadata": {
        "id": "x629huU4p0WV"
      },
      "execution_count": 7,
      "outputs": []
    },
    {
      "cell_type": "markdown",
      "source": [
        "See how this does nothing?"
      ],
      "metadata": {
        "id": "VKuvrr25qtkK"
      }
    },
    {
      "cell_type": "markdown",
      "source": [
        "### Executing"
      ],
      "metadata": {
        "id": "kRUR_5rFqyXr"
      }
    },
    {
      "cell_type": "code",
      "source": [
        "my_first_function()"
      ],
      "metadata": {
        "id": "-Wf5R6jkqyC3"
      },
      "execution_count": null,
      "outputs": []
    },
    {
      "cell_type": "markdown",
      "source": [
        "You have to define the function before you can execute it"
      ],
      "metadata": {
        "id": "zE9HWpZy8ky4"
      }
    },
    {
      "cell_type": "code",
      "source": [
        "my_undefined_function()\n",
        "\n",
        "def my_undefined_function():\n",
        "  print(\"this won't run\")\n",
        "  "
      ],
      "metadata": {
        "id": "WoOtPlal8prG"
      },
      "execution_count": null,
      "outputs": []
    },
    {
      "cell_type": "markdown",
      "source": [
        "In Python, you can read values from outside the function"
      ],
      "metadata": {
        "id": "t5gI8kxMrn-l"
      }
    },
    {
      "cell_type": "code",
      "source": [
        "i = 1\n",
        "\n",
        "def print_i():\n",
        "  print(i)\n",
        "\n",
        "print_i()\n",
        "i += 1\n",
        "print_i()"
      ],
      "metadata": {
        "id": "DnANUoCcrpFf"
      },
      "execution_count": null,
      "outputs": []
    },
    {
      "cell_type": "markdown",
      "source": [
        "Practice:\n",
        "\n",
        "Create a function called ```print_sum``` that take in 2 numbers from input and prints the sum.\n",
        "\n",
        "Execute that function in a while loop that will run forever (I know this is bad practice, but just do it anyways)"
      ],
      "metadata": {
        "id": "zKqBkpYmr5hA"
      }
    },
    {
      "cell_type": "code",
      "source": [
        "#@title Solution code. Try yourself first!\n",
        "def print_sum():\n",
        "  a = int(input())\n",
        "  b = int(input())\n",
        "  print(a + b)\n",
        "\n",
        "while True:\n",
        "  print_sum()"
      ],
      "metadata": {
        "cellView": "form",
        "id": "DH3ES8GLvYnj"
      },
      "execution_count": null,
      "outputs": []
    },
    {
      "cell_type": "markdown",
      "source": [
        "### Parameters\n",
        "\n",
        "In order to make our functions more useful, we can use parameters."
      ],
      "metadata": {
        "id": "08MC_JR6v1i9"
      }
    },
    {
      "cell_type": "code",
      "source": [
        "def print_sum(parameter_a, parameter_b):\n",
        "  print(parameter_a + parameter_b)\n",
        "\n",
        "print_sum(10, 12)"
      ],
      "metadata": {
        "id": "5atVSSw6v07Q"
      },
      "execution_count": null,
      "outputs": []
    },
    {
      "cell_type": "markdown",
      "source": [
        "You do not actually use the word parameter in the variable name in most cases. Note that the parameter only exists **inside** of the function and 'dissapears' outside of the function. \n",
        "\n",
        "The official term of a function going out of scope is called "
      ],
      "metadata": {
        "id": "-GEZob9g1GOd"
      }
    },
    {
      "cell_type": "code",
      "source": [
        "def print_product(parameter_a, parameter_b):\n",
        "  print(parameter_a * parameter_b)\n",
        "\n",
        "print_product(10, 12)\n",
        "\n",
        "# Parameters don't exist outside of their function\n",
        "# This code will crash because parameter_a and parameter_b only exist within the function\n",
        "print(parameter_a)\n",
        "print(parameter_b)"
      ],
      "metadata": {
        "id": "7MSanOCh9jN-"
      },
      "execution_count": null,
      "outputs": []
    },
    {
      "cell_type": "markdown",
      "source": [
        "Practice:\n",
        "\n",
        "Write a function that takes in three integer parameters, a, b, c. Print the result of ```a+b-c```"
      ],
      "metadata": {
        "id": "451yFISz0vns"
      }
    },
    {
      "cell_type": "code",
      "source": [
        "#@title Solution code. Try it yourself first!\n",
        "def print_sum(a, b, c):\n",
        "  print(a + b - c)"
      ],
      "metadata": {
        "cellView": "form",
        "id": "Tlqf0Z0k0vRu"
      },
      "execution_count": null,
      "outputs": []
    },
    {
      "cell_type": "markdown",
      "source": [
        "### Returning Values\n",
        "\n",
        "You can write a function that will not print anything, but rather ```return``` the value"
      ],
      "metadata": {
        "id": "VUrWOWB41Xls"
      }
    },
    {
      "cell_type": "code",
      "source": [
        "def return_hello(name):\n",
        "  return \"hello \" + name\n",
        "\n",
        "print(return_hello(\"rohit\"))"
      ],
      "metadata": {
        "id": "AelaEV7v6GgI"
      },
      "execution_count": null,
      "outputs": []
    },
    {
      "cell_type": "code",
      "source": [
        "def return_sum(a, b):\n",
        "  return a + b\n",
        "\n",
        "value = return_sum(1, 5) # Value equals to the result of sum of 1 and 5\n",
        "print(value)"
      ],
      "metadata": {
        "id": "XyAaChrN6UfG"
      },
      "execution_count": null,
      "outputs": []
    },
    {
      "cell_type": "markdown",
      "source": [
        "Practice: \n",
        "\n",
        "Write a function that will return the result of fizzbuzz for one game based on a number. Try it right here:"
      ],
      "metadata": {
        "id": "6hicC95WCCD6"
      }
    },
    {
      "cell_type": "code",
      "source": [
        "#@title Run this code to load the function\n",
        "def fizzbuzz(num):\n",
        "  if num % 3 == 0 and num % 5 == 0:\n",
        "    return \"FizzBuzz\"\n",
        "  elif num % 3 == 0:\n",
        "    return \"Fizz\"\n",
        "  elif num % 5 == 0:\n",
        "    return \"buzz\"\n",
        "  else:\n",
        "    return num"
      ],
      "metadata": {
        "cellView": "form",
        "id": "GN61GfSbEg_D"
      },
      "execution_count": 7,
      "outputs": []
    },
    {
      "cell_type": "code",
      "source": [
        "print(fizzbuzz(15)) # Change this number to try out the function"
      ],
      "metadata": {
        "id": "Cn_jSzndE2p1"
      },
      "execution_count": null,
      "outputs": []
    }
  ]
}