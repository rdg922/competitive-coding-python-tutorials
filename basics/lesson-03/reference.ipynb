{
  "nbformat": 4,
  "nbformat_minor": 0,
  "metadata": {
    "colab": {
      "name": "reference.ipynb",
      "provenance": [],
      "collapsed_sections": [
        "GgGwXCtbxTCN"
      ],
      "include_colab_link": true
    },
    "kernelspec": {
      "name": "python3",
      "display_name": "Python 3"
    },
    "language_info": {
      "name": "python"
    }
  },
  "cells": [
    {
      "cell_type": "markdown",
      "metadata": {
        "id": "view-in-github",
        "colab_type": "text"
      },
      "source": [
        "<a href=\"https://colab.research.google.com/github/rdg922/python-lessons/blob/master/basics/lesson-03/reference.ipynb\" target=\"_parent\"><img src=\"https://colab.research.google.com/assets/colab-badge.svg\" alt=\"Open In Colab\"/></a>"
      ]
    },
    {
      "cell_type": "markdown",
      "source": [
        "# Lesson 3: Lists\n",
        "\n",
        "* Creating lists\n",
        "  * Getting elements\n",
        "  * Length of a list\n",
        "  * Get last element with negative indexes\n",
        "  * Adding to a list with append()\n",
        "  * Inserting values\n",
        "  * Iterating through a list with for loops\n",
        "  * Finding if items are in lists\n",
        "  * List Slicing / Splicing\n",
        "  * List Copying\n",
        "  * Sorting\n",
        "  * Extending Lists\n",
        "* More Strings\n",
        "  * Using Strings like lists\n",
        "  * Splitting strings\n",
        "  * Replacing letters in strings\n",
        "* Inputting space-separated Integers with map()"
      ],
      "metadata": {
        "id": "pglBt4HA1i06"
      }
    },
    {
      "cell_type": "markdown",
      "source": [
        "## Lists\n",
        "\n",
        "Lists allow us to hold more than one value in a single variable.\n",
        "\n",
        "To denote a list we use square brackets and separate each item in the list with a comma"
      ],
      "metadata": {
        "id": "thmyiBBhsKSJ"
      }
    },
    {
      "cell_type": "code",
      "source": [
        "my_list = [\"bananas\", 1, 1.2, True]\n",
        "print(my_list)"
      ],
      "metadata": {
        "id": "3jPz22uCssk_"
      },
      "execution_count": null,
      "outputs": []
    },
    {
      "cell_type": "markdown",
      "source": [
        "As you can see, we can have values of different types in lists in Python\n",
        "\n",
        "Lists are ordered, changeable, and allow duplicates:\n",
        "\n",
        "\n",
        "### Getting elements\n",
        "\n",
        "Using the *index* of an element surrounded by square brackets, we can get an element of the list "
      ],
      "metadata": {
        "id": "Hoa-b71rs4Up"
      }
    },
    {
      "cell_type": "code",
      "source": [
        "print(my_list[0]) # Gets the very first element \"bananas\""
      ],
      "metadata": {
        "id": "gZoGmD2tMkmh"
      },
      "execution_count": null,
      "outputs": []
    },
    {
      "cell_type": "markdown",
      "source": [
        "Lists are ordered, meaning getting items in the list is based on the number you put in to the square brackets."
      ],
      "metadata": {
        "id": "Rt80MsTaM7AP"
      }
    },
    {
      "cell_type": "markdown",
      "source": [
        "### Getting length of a list\n",
        "\n",
        "Use the len() function:\n",
        "\n"
      ],
      "metadata": {
        "id": "h_0QNb_HNIw2"
      }
    },
    {
      "cell_type": "code",
      "source": [
        "my_list = [1, 2, 3] # Edit this list to whatever you want\n",
        "length_of_my_list = len(my_list)\n",
        "print(length_of_my_list)"
      ],
      "metadata": {
        "id": "NIW6PHFeNRUa"
      },
      "execution_count": null,
      "outputs": []
    },
    {
      "cell_type": "markdown",
      "source": [
        "### Get last item of a list\n",
        "\n",
        "There are two ways of getting the last element in the list:"
      ],
      "metadata": {
        "id": "c500VhpvPZFJ"
      }
    },
    {
      "cell_type": "code",
      "source": [
        "print(my_list[len(my_list) - 1])"
      ],
      "metadata": {
        "id": "BmipKmZzPhrs"
      },
      "execution_count": null,
      "outputs": []
    },
    {
      "cell_type": "markdown",
      "source": [
        "This works because the position of the last element of a list will always be the size of the list - 1"
      ],
      "metadata": {
        "id": "Esz0nCaZPmcy"
      }
    },
    {
      "cell_type": "code",
      "source": [
        "print(my_list[-1])"
      ],
      "metadata": {
        "id": "JgeC6mbeQMOw"
      },
      "execution_count": null,
      "outputs": []
    },
    {
      "cell_type": "markdown",
      "source": [
        "The second way, which we'll go over more looks like this:"
      ],
      "metadata": {
        "id": "ksdSW5hVQJ0m"
      }
    },
    {
      "cell_type": "markdown",
      "source": [
        "### Adding to a list\n",
        "\n",
        "You can add to the end of a list like so:"
      ],
      "metadata": {
        "id": "C3XZHqT5QYjK"
      }
    },
    {
      "cell_type": "code",
      "source": [
        "my_list.append(4) # Adds four to the list\n",
        "print(my_list)"
      ],
      "metadata": {
        "id": "ptjafal3Qf6b"
      },
      "execution_count": null,
      "outputs": []
    },
    {
      "cell_type": "markdown",
      "source": [
        "Practice: Make a variable called alphabet, and set it equal to a list comprising first 5 characters of the alphabet. Add the next letter in the alphabet the line after."
      ],
      "metadata": {
        "id": "zMM1Nxs0Qt6v"
      }
    },
    {
      "cell_type": "markdown",
      "source": [
        "### Inserting values \n",
        "\n",
        "The insert() method inserts an element to the list at the specified index.\n",
        "\n",
        "This syntax is as so: \n",
        "\n",
        "```list.insert(i, elem)```"
      ],
      "metadata": {
        "id": "8cnhAKCEMhMN"
      }
    },
    {
      "cell_type": "code",
      "source": [
        "# create a list of vowels\n",
        "vowel = ['a', 'e', 'i', 'u']\n",
        "# 'o' is inserted at index 3 (4th position)\n",
        "vowel.insert(3, 'o')\n",
        "print('List:', vowel)\n"
      ],
      "metadata": {
        "id": "i-zYzdehy65o"
      },
      "execution_count": null,
      "outputs": []
    },
    {
      "cell_type": "markdown",
      "source": [
        "### Iterating through a list\n",
        "\n",
        "You can iterate through the values in the list"
      ],
      "metadata": {
        "id": "8fSKlGGYrAz0"
      }
    },
    {
      "cell_type": "code",
      "source": [
        "names = [\"Ro\", \"Harrison\", \"Courtney\"]\n",
        "for name in names:\n",
        "  print(\"Sensei \" + name)"
      ],
      "metadata": {
        "id": "PhyrUi4HrF3y"
      },
      "execution_count": null,
      "outputs": []
    },
    {
      "cell_type": "markdown",
      "source": [
        "or through the individual indexes, and then get the element at that index"
      ],
      "metadata": {
        "id": "mjN16AZarR0Y"
      }
    },
    {
      "cell_type": "code",
      "source": [
        "numbers = [5, 2, 8, 10]\n",
        "for i in range(len(numbers)):\n",
        "  print(\"List numbers at index \" + str(i) + \" is \" + str(numbers[i]))"
      ],
      "metadata": {
        "id": "FziGgWO0rSjw"
      },
      "execution_count": null,
      "outputs": []
    },
    {
      "cell_type": "markdown",
      "source": [
        "### Finding if items are in lists:"
      ],
      "metadata": {
        "id": "UlY1ozifrSTx"
      }
    },
    {
      "cell_type": "code",
      "source": [
        "my_list = [1, 2, 3, 4]\n",
        "print(1 in my_list)"
      ],
      "metadata": {
        "id": "XRDYnYUMrR7U"
      },
      "execution_count": null,
      "outputs": []
    },
    {
      "cell_type": "markdown",
      "source": [
        "Practice: Make a new list of numbers. You can put whatever numbers you want). Ask the user for a number, and output \"Your number is in the list\" or \"Your number is not in the list\" depending on whether that number is in the list:"
      ],
      "metadata": {
        "id": "099I0zQTrcqw"
      }
    },
    {
      "cell_type": "code",
      "source": [
        "nums = [1, 2, 3]\n",
        "is_in_list = int(input() in nums)\n",
        "print(\"Your number is in the list\" if is_in_list else \"Your number is not in list\") # Some fancy syntax for you because you looked at the reference 😤\n",
        "\n",
        "# You can also:\n",
        "if is_in_list:\n",
        "  print(\"Your number is in the list\")\n",
        "else:\n",
        "  print(\"Your number is not in the list\")"
      ],
      "metadata": {
        "id": "tcs8dvBZrkgP"
      },
      "execution_count": null,
      "outputs": []
    },
    {
      "cell_type": "markdown",
      "source": [
        "### List Slicing / Splicing\n",
        "\n",
        "Slicing is when you get a small subsection of the list without modifying the original array:"
      ],
      "metadata": {
        "id": "38eTqaTJsqta"
      }
    },
    {
      "cell_type": "code",
      "source": [
        "my_nums = [1, 2, 3, 4]\n",
        "print(my_nums[0:4]) # prints the entire list because 0 to 4 (not including 4) are all the valid indexes to the list\n",
        "print(my_nums[1:3]) # Indexes are similar to the values from range()"
      ],
      "metadata": {
        "id": "eawwcn4ttS4q"
      },
      "execution_count": null,
      "outputs": []
    },
    {
      "cell_type": "markdown",
      "source": [
        "You can also use three values to get elements that are not directly next to the one before:"
      ],
      "metadata": {
        "id": "9L8JEj1duRyK"
      }
    },
    {
      "cell_type": "code",
      "source": [
        "my_nums = [1, 1, 2, 2, 3, 3, 4, 4, 5, 5]\n",
        "print(my_nums[0:10:2])"
      ],
      "metadata": {
        "id": "7GQaKGd2uew5"
      },
      "execution_count": null,
      "outputs": []
    },
    {
      "cell_type": "markdown",
      "source": [
        "Practice: Print the list above in reverse order:"
      ],
      "metadata": {
        "id": "EFyFfvoKu0m4"
      }
    },
    {
      "cell_type": "code",
      "source": [
        "print(my_nums[10:0:-1])"
      ],
      "metadata": {
        "id": "KFm8qmwru3fQ"
      },
      "execution_count": null,
      "outputs": []
    },
    {
      "cell_type": "markdown",
      "source": [
        "You can simplify your code by ommitting numbers and letting the computer infer what you meant.\n",
        "\n",
        "If you skip the first number, it will start from position 0. \n",
        "\n",
        "If you skip the second number, it will end at the last position.\n",
        "\n",
        "If you skip the third number, it will iterate through the list by one"
      ],
      "metadata": {
        "id": "SYCTP6k0XWIl"
      }
    },
    {
      "cell_type": "code",
      "source": [
        "print(my_nums[:]) # from the beginning to the end is inferred\n",
        "print(my_nums[2:]) # from index 2 to the end\n",
        "print(my_nums[:3]) # from beginning to index 2 (not including index 3)\n",
        "print(my_nums[::-1]) # reverse of the list\n",
        "print(my_nums[:7:2]) # from the beginning, to index 6, taking every other number"
      ],
      "metadata": {
        "id": "Xl7aBfSCu72V"
      },
      "execution_count": null,
      "outputs": []
    },
    {
      "cell_type": "markdown",
      "source": [
        "Practice: without modifying the list below or using an if statement, print only even numbers in ascending order "
      ],
      "metadata": {
        "id": "CH_6sDmbvlFQ"
      }
    },
    {
      "cell_type": "code",
      "source": [
        "# Run this before your the next code cell\n",
        "my_nums = [10, 9, 8, 7, 6, 5, 4, 3, 2, 1] # Don't change this"
      ],
      "metadata": {
        "id": "g7PG4U5_vtYZ"
      },
      "execution_count": null,
      "outputs": []
    },
    {
      "cell_type": "code",
      "source": [
        "print(my_nums[::-2])"
      ],
      "metadata": {
        "id": "IS-nBvmXv5Tx"
      },
      "execution_count": null,
      "outputs": []
    },
    {
      "cell_type": "markdown",
      "source": [
        "### List Copying\n",
        "\n",
        "Be careful if you want to copy a list! Do not set a variable to be directly equal to another, or else you get behavior like this:"
      ],
      "metadata": {
        "id": "7iGISvLctp9O"
      }
    },
    {
      "cell_type": "code",
      "source": [
        "a = [1, 2, 3]\n",
        "b = a\n",
        "b[0] = 3\n",
        "print(a) # \"a\" changed despite us only changing \"b\"\n",
        "print(b) # \"b\" also changed"
      ],
      "metadata": {
        "id": "WOa6nxsDtv_h"
      },
      "execution_count": null,
      "outputs": []
    },
    {
      "cell_type": "markdown",
      "source": [
        "The way we get around this is with a slice of the string from the start to end, as it returns a NEW list"
      ],
      "metadata": {
        "id": "gj-iitbP3wgh"
      }
    },
    {
      "cell_type": "code",
      "source": [
        "a = [1, 2, 3]\n",
        "b = a[:] # returns a slice of the original list \n",
        "b[0] = 3\n",
        "print(a)\n",
        "print(b)"
      ],
      "metadata": {
        "id": "7avsqiqg3v-e"
      },
      "execution_count": null,
      "outputs": []
    },
    {
      "cell_type": "markdown",
      "source": [
        "# List Sorting\n",
        "\n",
        "You can sort a list in two different ways:\n",
        "\n",
        "using ```sorted()``` allows us to return a new list that is copied"
      ],
      "metadata": {
        "id": "IipTCOkj5dvC"
      }
    },
    {
      "cell_type": "code",
      "source": [
        "my_list = [9, 8, 7, 6, 5, 4, 3, 2, 1]\n",
        "my_sorted_list = sorted(my_list) # sorted version of the list that is separate from the original list\n",
        "\n",
        "print(my_sorted_list) \n",
        "print(my_list) # Notice how my_list is the same? "
      ],
      "metadata": {
        "colab": {
          "base_uri": "https://localhost:8080/"
        },
        "id": "Qy5gWc2Y5tlx",
        "outputId": "478234e5-0c26-4496-d169-b14cefa41de7"
      },
      "execution_count": null,
      "outputs": [
        {
          "output_type": "stream",
          "name": "stdout",
          "text": [
            "[1, 2, 3, 4, 5, 6, 7, 8, 9]\n",
            "[9, 8, 7, 6, 5, 4, 3, 2, 1]\n"
          ]
        }
      ]
    },
    {
      "cell_type": "markdown",
      "source": [
        "You can reverse this by typing ```reverse=True``` as an argument after the list name"
      ],
      "metadata": {
        "id": "iD1F3AIV6G4K"
      }
    },
    {
      "cell_type": "code",
      "source": [
        "my_reverse_sorted_list = sorted(my_list, reverse=True)\n",
        "print(my_reverse_sorted_list)"
      ],
      "metadata": {
        "id": "sGYRwRYx6DkE"
      },
      "execution_count": null,
      "outputs": []
    },
    {
      "cell_type": "markdown",
      "source": [
        "If you want to modify the original list you can use the ```.sort()``` method"
      ],
      "metadata": {
        "id": "lokT5duC6VqB"
      }
    },
    {
      "cell_type": "code",
      "source": [
        "my_list = [3, 2, 4, 5, 1] # Out of order list\n",
        "print(my_list) \n",
        "\n",
        "my_list.sort() # This changes the original list\n",
        "print(my_list)"
      ],
      "metadata": {
        "id": "eRY6x9iX6cvT"
      },
      "execution_count": null,
      "outputs": []
    },
    {
      "cell_type": "markdown",
      "source": [
        "You can also also reverse the sort using ```reverse=True``` inside it"
      ],
      "metadata": {
        "id": "yTkv1XCz6xPS"
      }
    },
    {
      "cell_type": "code",
      "source": [
        "my_list = [3, 2, 4, 5, 1] # Out of order list\n",
        "print(my_list) \n",
        "\n",
        "my_list.sort(reverse=True) # This changes the original list by reversing it\n",
        "print(my_list)"
      ],
      "metadata": {
        "id": "DdAzSD2O6xAX"
      },
      "execution_count": null,
      "outputs": []
    },
    {
      "cell_type": "markdown",
      "source": [
        "### Extending Lists:\n",
        "\n",
        "Practice: Without looking ahead (or using what you have seen if you have looked ahead), add the contents of list b to list a "
      ],
      "metadata": {
        "id": "GgGwXCtbxTCN"
      }
    },
    {
      "cell_type": "code",
      "source": [
        "a = [1, 2, 3, 4]\n",
        "b = [5, 6, 7, 8]"
      ],
      "metadata": {
        "id": "VX2zjCkdxUqz"
      },
      "execution_count": null,
      "outputs": []
    },
    {
      "cell_type": "code",
      "source": [
        "for value in b:\n",
        "  a.append(b)"
      ],
      "metadata": {
        "id": "Bu-da1gwxiFp"
      },
      "execution_count": null,
      "outputs": []
    },
    {
      "cell_type": "markdown",
      "source": [
        "You can add lists in multiple ways"
      ],
      "metadata": {
        "id": "2vLHiJUYxvJZ"
      }
    },
    {
      "cell_type": "code",
      "source": [
        "print(a + b)\n",
        "a += b\n",
        "print(a)"
      ],
      "metadata": {
        "id": "VsBuhRkMxtaD"
      },
      "execution_count": null,
      "outputs": []
    },
    {
      "cell_type": "markdown",
      "source": [
        "You can't use += to add integers to a list because the data type don't match. You can also add a list to another by using the .extend function on the list you want to extend"
      ],
      "metadata": {
        "id": "w8lqIAhxyBEA"
      }
    },
    {
      "cell_type": "code",
      "source": [
        "colors = [\"red\", \"blue\", \"cyan\"]\n",
        "more_colors = [\"purple\", \"indigo\"]\n",
        "colors.extend(more_colors)\n",
        "print(colors)"
      ],
      "metadata": {
        "id": "cL36fQmGySh0"
      },
      "execution_count": null,
      "outputs": []
    },
    {
      "cell_type": "markdown",
      "source": [
        "Practice: Before running the code cell below, what happens?"
      ],
      "metadata": {
        "id": "1yFg9qJ16E88"
      }
    },
    {
      "cell_type": "code",
      "source": [
        "letters = [\"a\", \"b\", \"c\"]\n",
        "more_letters = [\"d\", \"e\", \"f\"]\n",
        "letters += more_letters\n",
        "more_letters += letters\n",
        "print(letters, more_letters)"
      ],
      "metadata": {
        "id": "5hIP1OhA6IcZ"
      },
      "execution_count": null,
      "outputs": []
    },
    {
      "cell_type": "markdown",
      "source": [
        "### More Strings:\n",
        "\n",
        "Practice: Take in a string and print the number of letters in the string"
      ],
      "metadata": {
        "id": "P1059gqrX5Sq"
      }
    },
    {
      "cell_type": "code",
      "source": [
        "print(len(input()))"
      ],
      "metadata": {
        "id": "NTEyYF-yZwEr"
      },
      "execution_count": null,
      "outputs": []
    },
    {
      "cell_type": "markdown",
      "source": [
        "You can use a string like a list and get the individual letters in a list using the ```in``` keyword in a for loop"
      ],
      "metadata": {
        "id": "MOFHX5rGZMDF"
      }
    },
    {
      "cell_type": "code",
      "source": [
        "my_string = \"abcdefg\"\n",
        "for letter in my_string:\n",
        "  print(letter)"
      ],
      "metadata": {
        "id": "oGdYXXK8Zp7a"
      },
      "execution_count": null,
      "outputs": []
    },
    {
      "cell_type": "markdown",
      "source": [
        "Or, you can print a slice of the list:"
      ],
      "metadata": {
        "id": "UINpoyCAYZzd"
      }
    },
    {
      "cell_type": "code",
      "source": [
        "my_string = \"hello everybody my name is markiplier\"\n",
        "print(my_string[:5])\n",
        "print(my_string[27:])\n",
        "print(my_string[16:27])\n",
        "print(my_string[27:])"
      ],
      "metadata": {
        "id": "LTQzpTLDYY1w"
      },
      "execution_count": null,
      "outputs": []
    },
    {
      "cell_type": "markdown",
      "source": [
        "Practice: Take in a word that is longer than 5 letters, and print just the first five letters in one line:"
      ],
      "metadata": {
        "id": "1jBfm51LY7V6"
      }
    },
    {
      "cell_type": "code",
      "source": [
        "print(input()[:5])"
      ],
      "metadata": {
        "id": "VmSnordyZDtW"
      },
      "execution_count": null,
      "outputs": []
    },
    {
      "cell_type": "markdown",
      "source": [
        "Practice: Fix the code below to print the letters in the list, not the positions of the letters"
      ],
      "metadata": {
        "id": "FCvFPsIWZud0"
      }
    },
    {
      "cell_type": "code",
      "source": [
        "my_string = \"abcdefg\"\n",
        "\n",
        "for i in range(len(my_string)):\n",
        "  print(my_string[i]) # Change this line only"
      ],
      "metadata": {
        "id": "xXfbgPpdYgsP"
      },
      "execution_count": null,
      "outputs": []
    },
    {
      "cell_type": "code",
      "source": [
        "for i in range(len(my_string)):\n",
        "  print(my_string[i])"
      ],
      "metadata": {
        "id": "OszCEEOrZTK5"
      },
      "execution_count": null,
      "outputs": []
    },
    {
      "cell_type": "markdown",
      "source": [
        "Practice: take in two strings, *a* and *b*. Check if the string *a* is in *b*\n",
        "\n",
        "Example Input:\n",
        "\n",
        "```\n",
        "br\n",
        "bruh\n",
        "```\n",
        "\n",
        "Example Output: \n",
        "\n",
        "```\n",
        "True\n",
        "```\n",
        "\n",
        "Hint: Look back in this lesson on how to check if something is inside a list! The syntax is the same for a string!"
      ],
      "metadata": {
        "id": "t0hfjDUe6qBj"
      }
    },
    {
      "cell_type": "code",
      "source": [
        "a = input()\n",
        "b = input()\n",
        "print(a in b)"
      ],
      "metadata": {
        "id": "usNSRR_66yJv"
      },
      "execution_count": null,
      "outputs": []
    },
    {
      "cell_type": "markdown",
      "source": [
        "Practice: Take in a string, and print the reverse of this. If you can, do it three times using different ways: using string slicing, a reverse for loop, or and a reverse while loop"
      ],
      "metadata": {
        "id": "zzq57zlp7Y7E"
      }
    },
    {
      "cell_type": "code",
      "source": [
        "# String Slicitng\n",
        "line = input()\n",
        "print(line[::-1])"
      ],
      "metadata": {
        "id": "rBn0o1sk7k_T"
      },
      "execution_count": null,
      "outputs": []
    },
    {
      "cell_type": "code",
      "source": [
        "# Reverse For loops\n",
        "line = input()\n",
        "output = \"\"\n",
        "\n",
        "for c in range(len(line) - 1, -1, -1):\n",
        "  output += line[c]\n",
        "print(output)"
      ],
      "metadata": {
        "id": "EQ7cdVj__OdB"
      },
      "execution_count": null,
      "outputs": []
    },
    {
      "cell_type": "code",
      "source": [
        "# Reverse While loop\n",
        "line = input()\n",
        "i = len(line) - 1\n",
        "\n",
        "output = \"\"\n",
        "while i > -1:\n",
        "  output += line[i]\n",
        "  i -= 1\n",
        "\n",
        "print(output)"
      ],
      "metadata": {
        "id": "Ej6VsZXL_O6z"
      },
      "execution_count": null,
      "outputs": []
    },
    {
      "cell_type": "markdown",
      "source": [
        "### Splitting Strings like Lists:\n",
        "\n",
        "Use the ```.split()``` to split up a string by spaces:"
      ],
      "metadata": {
        "id": "pvYZvKiaBeNJ"
      }
    },
    {
      "cell_type": "code",
      "source": [
        "line = \"hello world\"\n",
        "print(line.split())"
      ],
      "metadata": {
        "id": "MlJfb9XXBns6"
      },
      "execution_count": null,
      "outputs": []
    },
    {
      "cell_type": "markdown",
      "source": [
        "Practice: Take in a string from the console and print each word (separated by spaces) on individual lines:\n"
      ],
      "metadata": {
        "id": "-JsdUwJSBwzR"
      }
    },
    {
      "cell_type": "code",
      "source": [
        "words = input().split()\n",
        "for word in words:\n",
        "  print(word)"
      ],
      "metadata": {
        "id": "brcz-1XHHJ5G"
      },
      "execution_count": null,
      "outputs": []
    },
    {
      "cell_type": "markdown",
      "source": [
        "## Replacing letters in strings\n",
        "\n",
        "You can overwrite letters in a string with the .replace() function"
      ],
      "metadata": {
        "id": "6VQY2WuWWfsn"
      }
    },
    {
      "cell_type": "code",
      "source": [
        "my_string = \"bbuh\"\n",
        "print(my_string.replace(\"bb\", \"br\"))\n",
        "print(my_string)\n"
      ],
      "metadata": {
        "id": "I5gWKaJ3WodR"
      },
      "execution_count": null,
      "outputs": []
    },
    {
      "cell_type": "markdown",
      "source": [
        "Note how it doesn't actually modify the original value of the string"
      ],
      "metadata": {
        "id": "q-XaP9I5XdDM"
      }
    },
    {
      "cell_type": "markdown",
      "source": [
        "### Inputting space-separated Integers with map()\n",
        "\n",
        "`map()` follors the following syntax:\n"
      ],
      "metadata": {
        "id": "XlV_e57-ISzv"
      }
    },
    {
      "cell_type": "code",
      "source": [
        "my_list = [\"1\", \"2\", \"3\"]\n",
        "my_function = int # Note how you DO NOT use parenthesis ()\n",
        "\n",
        "my_integer_list = list(map(my_function, my_list)) # Have to tell the computer this will return a list\n",
        "\n",
        "my_string_list = list(map(str, [4, 5, 6])) # a more direct statement \n",
        "\n",
        "print(my_integer_list)\n",
        "\n",
        "print(my_string_list)"
      ],
      "metadata": {
        "id": "Y61e5MtnIhMm"
      },
      "execution_count": null,
      "outputs": []
    },
    {
      "cell_type": "markdown",
      "source": [
        "Practice: Take in a line of space separated integers (all on one line) and print the integers with one added to them on one line\n",
        "\n",
        "Example Input:\n",
        "```\n",
        "10 11 12 13 14\n",
        "```\n",
        "Example Output:\n",
        "```\n",
        "11 12 13 14 15\n",
        "```\n",
        "\n"
      ],
      "metadata": {
        "id": "sp-vJVpVWFDF"
      }
    },
    {
      "cell_type": "code",
      "source": [
        "line = map(int, input().split())\n",
        "output = \"\"\n",
        "for num in line:\n",
        "  output += str(num+1) + \" \"\n",
        "print(output)"
      ],
      "metadata": {
        "id": "rx8zeBmdWOCB"
      },
      "execution_count": null,
      "outputs": []
    },
    {
      "cell_type": "markdown",
      "source": [
        "Practice:\n",
        "\n",
        "Take in a string of space separated integers"
      ],
      "metadata": {
        "id": "5BzO9wA4me0d"
      }
    }
  ]
}