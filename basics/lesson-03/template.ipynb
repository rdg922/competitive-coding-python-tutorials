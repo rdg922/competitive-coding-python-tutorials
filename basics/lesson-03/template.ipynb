{
  "nbformat": 4,
  "nbformat_minor": 0,
  "metadata": {
    "colab": {
      "name": "template.ipynb",
      "provenance": [],
      "collapsed_sections": [],
      "authorship_tag": "ABX9TyNJlnmtvstezpRAgknsIFAj",
      "include_colab_link": true
    },
    "kernelspec": {
      "name": "python3",
      "display_name": "Python 3"
    },
    "language_info": {
      "name": "python"
    }
  },
  "cells": [
    {
      "cell_type": "markdown",
      "metadata": {
        "id": "view-in-github",
        "colab_type": "text"
      },
      "source": [
        "<a href=\"https://colab.research.google.com/github/rdg922/python-lessons/blob/master/basics/lesson-03/template.ipynb\" target=\"_parent\"><img src=\"https://colab.research.google.com/assets/colab-badge.svg\" alt=\"Open In Colab\"/></a>"
      ]
    },
    {
      "cell_type": "markdown",
      "source": [
        "Lesson 03 - Basic Logic with If statements and Loops:\n",
        "\n",
        "Today's lesson is a little different, we're going to:\n",
        "\n",
        "* Complete Fizzbuzz, an old coding interview problem\n",
        "* Draw Shapes with just the console\n",
        "* Review competition problems we have done last week\n",
        "* Learn how to break down code"
      ],
      "metadata": {
        "id": "gWfB6xEZMpls"
      }
    },
    {
      "cell_type": "markdown",
      "source": [
        "## Fizzbuzz\n",
        "Fizzbuzz Skills:\n",
        "\n",
        "* For loops\n",
        "* Modulo operator\n",
        "* Logical operators\n",
        "* if/elif/else statements\n",
        "* Printing"
      ],
      "metadata": {
        "id": "eSuhjGfd-ocp"
      }
    },
    {
      "cell_type": "markdown",
      "source": [
        "### For loops:"
      ],
      "metadata": {
        "id": "wld8cD_B-8kc"
      }
    },
    {
      "cell_type": "markdown",
      "source": [
        "Practice: Print every other number from 10 to 0:\n",
        "\n",
        "\n",
        "\n",
        "```\n",
        "10\n",
        "8\n",
        "6\n",
        "4\n",
        "2\n",
        "0\n",
        "```\n",
        "\n"
      ],
      "metadata": {
        "id": "qCo1Nxeq--80"
      }
    },
    {
      "cell_type": "code",
      "source": [
        "for i in range(10, -1, -2):\n",
        "  print(i)"
      ],
      "metadata": {
        "id": "LVNKmI7b--dV"
      },
      "execution_count": null,
      "outputs": []
    },
    {
      "cell_type": "markdown",
      "source": [
        "Stuck? The range function works as so:\n",
        "\n",
        "\n",
        "```\n",
        "range(start, stop, step)\n",
        "```\n",
        "\n",
        "So you can use negative numbers"
      ],
      "metadata": {
        "id": "grqwfNMi_Z8p"
      }
    },
    {
      "cell_type": "markdown",
      "source": [
        "### Modulo operator\n",
        "\n",
        "Modulo works by returning the remainder of a division:"
      ],
      "metadata": {
        "id": "stsovaQ6BZWh"
      }
    },
    {
      "cell_type": "code",
      "source": [
        "print(5 % 3)"
      ],
      "metadata": {
        "id": "VC7hIvGYBekF"
      },
      "execution_count": null,
      "outputs": []
    },
    {
      "cell_type": "markdown",
      "source": [
        "Practice: Print the remainder of variable a and b"
      ],
      "metadata": {
        "id": "mPSl8anjBi9l"
      }
    },
    {
      "cell_type": "code",
      "source": [
        "a = 4\n",
        "b = 7"
      ],
      "metadata": {
        "id": "0SjbmEM7BpaR"
      },
      "execution_count": null,
      "outputs": []
    },
    {
      "cell_type": "code",
      "source": [
        ""
      ],
      "metadata": {
        "id": "pFPSLGhrBh5x"
      },
      "execution_count": null,
      "outputs": []
    },
    {
      "cell_type": "markdown",
      "source": [
        "### Logical and Conditional Operators\n",
        "\n",
        "I can't review all of these, so check out lesson 1!\n",
        "\n",
        "Practice: Print True or False depending on whether the variable \"a\" divided by 2 is 1\n",
        "\n"
      ],
      "metadata": {
        "id": "yuvqS5amBhMW"
      }
    },
    {
      "cell_type": "code",
      "source": [
        "a = 5 # feel free to change this value"
      ],
      "metadata": {
        "id": "hE8U9uD6HnyW"
      },
      "execution_count": null,
      "outputs": []
    },
    {
      "cell_type": "code",
      "source": [
        ""
      ],
      "metadata": {
        "id": "WHodqi7vEzPp"
      },
      "execution_count": null,
      "outputs": []
    },
    {
      "cell_type": "markdown",
      "source": [
        "You can chain these together with \"and\" \"or\" or \"not\""
      ],
      "metadata": {
        "id": "aWUmY16GItsQ"
      }
    },
    {
      "cell_type": "code",
      "source": [
        "print(not 5 == 3)"
      ],
      "metadata": {
        "id": "9mSJl-gqItOO"
      },
      "execution_count": null,
      "outputs": []
    },
    {
      "cell_type": "markdown",
      "source": [
        "### If/elif/else statements\n",
        "\n",
        "Replace the _ with a boolean statement"
      ],
      "metadata": {
        "id": "dXcOd0vRBSLN"
      }
    },
    {
      "cell_type": "code",
      "source": [
        "if _: # Put some statement in here\n",
        "  print(\"Your statement is True!\")"
      ],
      "metadata": {
        "id": "hU3HR8Lx_lUV"
      },
      "execution_count": null,
      "outputs": []
    },
    {
      "cell_type": "markdown",
      "source": [
        "Practice: Billy has 20 boxes of cookies, Sally has 234 cookies. A box has 12 cookies. Print out who has more cookies.\n",
        "\n",
        "Define variables \"billy_boxes\" and \"sally_cookies\" to those numbers. Write a small code segment that uses an \n",
        "* if\n",
        "* elif\n",
        "* else\n",
        "\n",
        "to print whether Sally or Billy has more cookies"
      ],
      "metadata": {
        "id": "7DXOCTfWI4io"
      }
    },
    {
      "cell_type": "code",
      "source": [
        "# Use these variables for the practice!\n",
        "billy_boxes = 20\n",
        "sally_cookies = 234\n",
        "cookiers_per_box = 12"
      ],
      "metadata": {
        "id": "BwagHJ__nJZa"
      },
      "execution_count": null,
      "outputs": []
    },
    {
      "cell_type": "code",
      "source": [
        ")"
      ],
      "metadata": {
        "id": "aSkw0eGqI-eU"
      },
      "execution_count": null,
      "outputs": []
    },
    {
      "cell_type": "markdown",
      "source": [
        "Practice: Print whether the variable \"a\" is divisible . Set the value of \"a\" to whatever you want. Print whether a / 3 has a remainder of 1 or 2. \n",
        "\n",
        "\n",
        "Example Input 1\n",
        "\n",
        "```\n",
        "1\n",
        "```\n",
        "\n",
        "```\n",
        "Remainder of 1\n",
        "```\n",
        "\n",
        "Example Input 2\n",
        "```\n",
        "5\n",
        "```\n",
        "\n",
        "```\n",
        "Remainder of 2\n",
        "```\n",
        "\n",
        "Your code does not have to take in input\n"
      ],
      "metadata": {
        "id": "Bszh4ujZSD2W"
      }
    },
    {
      "cell_type": "code",
      "source": [
        "a = 1\n"
      ],
      "metadata": {
        "id": "pER7vb2OoiEi"
      },
      "execution_count": null,
      "outputs": []
    },
    {
      "cell_type": "code",
      "source": [
        "if a % 3 == 1:\n",
        "  print(\"Remainder of 1\")\n",
        "elif a % 3 == 2:\n",
        "  print(\"Remainder of 2\")"
      ],
      "metadata": {
        "id": "iGqc-A7Msl0L"
      },
      "execution_count": null,
      "outputs": []
    },
    {
      "cell_type": "markdown",
      "source": [
        "## Fizzbuzz\n",
        "\n",
        "Print the game of fizzbuzz. Fizzbuzz is a game where you count the numbers from 1 to 100 (including 100):\n",
        "\n",
        "* If the number is divisible by 3, you say fizz. \n",
        "* If the number is divisible by 5, you say buzz.\n",
        "* If the number is divisible by 3 and 5, you say fizzbuzz\n",
        "\n",
        "Here's the first fifteen:\n",
        "\n",
        "```\n",
        "1\n",
        "2\n",
        "fizz\n",
        "4\n",
        "buzz\n",
        "fizz\n",
        "7\n",
        "8\n",
        "fizz\n",
        "buzz\n",
        "11\n",
        "fizz\n",
        "13\n",
        "14\n",
        "fizzbuzz\n",
        "```\n",
        "\n"
      ],
      "metadata": {
        "id": "sKXrZdBLncMN"
      }
    },
    {
      "cell_type": "code",
      "source": [
        ")"
      ],
      "metadata": {
        "id": "nvCl-fOptmju"
      },
      "execution_count": null,
      "outputs": []
    },
    {
      "cell_type": "markdown",
      "source": [
        "## Drawing Shapes:\n",
        "\n",
        "This section is a little bit more freeform right now, but I will update it to be more in depth after the lesson (🤞 hopefully)\n",
        "\n",
        "We'll also review input in this section!"
      ],
      "metadata": {
        "id": "HKspnW5luJa5"
      }
    },
    {
      "cell_type": "markdown",
      "source": [
        "Practice: Take in a number, and print one less than the number"
      ],
      "metadata": {
        "id": "Gt9dNkoJuc5b"
      }
    },
    {
      "cell_type": "code",
      "source": [
        "print(int(input()) - 1)"
      ],
      "metadata": {
        "id": "osl3bx0YugeV"
      },
      "execution_count": null,
      "outputs": []
    },
    {
      "cell_type": "markdown",
      "source": [
        "Practice: Take in a number a use a for loop to print a vertical line of x's:\n",
        "\n",
        "Example Input:\n",
        "\n",
        "```\n",
        "5\n",
        "```\n",
        "\n",
        "```\n",
        "x\n",
        "x\n",
        "x\n",
        "x\n",
        "x\n",
        "```\n",
        "\n"
      ],
      "metadata": {
        "id": "zbdc7GQYuajG"
      }
    },
    {
      "cell_type": "code",
      "source": [
        "for i in range(int(input())):\n",
        "  print('x')"
      ],
      "metadata": {
        "id": "JvkKKN0cuaKi"
      },
      "execution_count": null,
      "outputs": []
    },
    {
      "cell_type": "markdown",
      "source": [
        "Practice: Now print a horizontal line"
      ],
      "metadata": {
        "id": "g_zhEub0u5WB"
      }
    },
    {
      "cell_type": "code",
      "source": [
        ""
      ],
      "metadata": {
        "id": "XW9kbx0Ju490"
      },
      "execution_count": null,
      "outputs": []
    },
    {
      "cell_type": "markdown",
      "source": [
        "Using two for loops, things get a little more complicated"
      ],
      "metadata": {
        "id": "LWob6OGrweY7"
      }
    },
    {
      "cell_type": "code",
      "source": [
        "size = int(input())\n",
        "for y in range(size):\n",
        "  output = \"\"\n",
        "  for i in range(size):\n",
        "    output += \"x\"\n",
        "  print(output)"
      ],
      "metadata": {
        "id": "KxlL76PKwdz8"
      },
      "execution_count": null,
      "outputs": []
    },
    {
      "cell_type": "markdown",
      "source": [
        "What does this do?"
      ],
      "metadata": {
        "id": "zBSh8LnCL3NR"
      }
    },
    {
      "cell_type": "code",
      "source": [
        "size = int(input())\n",
        "for y in range(1, size+1):\n",
        "  output = \"\"\n",
        "  for i in range(size-y):\n",
        "    output += ' '\n",
        "  for i in range(y):\n",
        "    output += 'x'\n",
        "  print(output)"
      ],
      "metadata": {
        "id": "WZWcctYnL27n"
      },
      "execution_count": null,
      "outputs": []
    },
    {
      "cell_type": "markdown",
      "source": [
        "What about this?"
      ],
      "metadata": {
        "id": "BrT-7x0YMMS_"
      }
    },
    {
      "cell_type": "code",
      "source": [
        "size = int(input())\n",
        "for y in range(1, size+1):\n",
        "  output = \"\"\n",
        "  for x in range(y):\n",
        "    output += \"x\"\n",
        "  print(output)"
      ],
      "metadata": {
        "id": "BJhHT2U-MMAF"
      },
      "execution_count": null,
      "outputs": []
    }
  ]
}