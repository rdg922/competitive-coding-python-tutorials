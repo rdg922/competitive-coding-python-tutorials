{
  "nbformat": 4,
  "nbformat_minor": 0,
  "metadata": {
    "colab": {
      "name": "Lesson-01.ipynb",
      "provenance": [],
      "collapsed_sections": [],
      "toc_visible": true
    },
    "kernelspec": {
      "name": "python3",
      "display_name": "Python 3"
    },
    "language_info": {
      "name": "python"
    }
  },
  "cells": [
    {
      "cell_type": "markdown",
      "source": [
        "# Lesson 1: Input / Output, introduction to variables with Strings, Numbers, and Booleans\n",
        "* Output with print()\n",
        "* Handling String variables:\n",
        "\t* Adding Strings\n",
        "* Input with input()\n",
        "* Creating number variables\n",
        "\t* Adding, Subtracting, Multiplying and Dividing\n",
        "* Adding Strings and Numbers:\n",
        "\t* Converting from string to integers and floats with int() and float()\n",
        "\t* Numbers to strings with str()\n",
        "* Booleans:\n",
        "\t* Logical Operators - and, or, not\n",
        "\t* Conditional Operators - greater than, equal, less than or equal to, etc...\n"
      ],
      "metadata": {
        "id": "FNNaW-hKDsmh"
      }
    },
    {
      "cell_type": "markdown",
      "source": [
        "# Output\n",
        "\n",
        "Use the print() function to print whatever you want. Make sure to use quotation marks around what you want to print"
      ],
      "metadata": {
        "id": "iAEnNnqiETRy"
      }
    },
    {
      "cell_type": "code",
      "execution_count": 23,
      "metadata": {
        "colab": {
          "base_uri": "https://localhost:8080/"
        },
        "id": "Lqu9BYLSDbY2",
        "outputId": "12998103-dbd0-46cc-cae2-33eb54b0fe79"
      },
      "outputs": [
        {
          "output_type": "stream",
          "name": "stdout",
          "text": [
            "Hello World\n"
          ]
        }
      ],
      "source": [
        "print(\"Hello World\")"
      ]
    },
    {
      "cell_type": "markdown",
      "source": [
        "# Variables\n",
        "\n",
        "Variables hold data. This data can be held in different data types. In this lesson we go over three types: \n",
        "\n",
        "* Strings\n",
        "* Numbers\n",
        "* Booleans\n",
        "\n",
        "A variable can have a short name (like x and y) or a more descriptive name (age, carname, total_volume).\n",
        "\n",
        "Rules for Python variables:\n",
        "\n",
        "A variable name must start with a letter or the underscore character\n",
        "\n",
        "A variable name cannot start with a number\n",
        "\n",
        "A variable name can only contain alpha-numeric characters and underscores (A-z, 0-9, and _ )\n",
        "\n",
        "Variable names are case-sensitive (age, Age and AGE are three different variables)\n"
      ],
      "metadata": {
        "id": "aqGnwkY7E9i1"
      }
    },
    {
      "cell_type": "markdown",
      "source": [
        "## String Variables:\n",
        "\n",
        "String Variables just hold human readable text\n",
        "\n",
        "By default the line below does nothing"
      ],
      "metadata": {
        "id": "5ML69eRuHWgX"
      }
    },
    {
      "cell_type": "code",
      "source": [
        "# Variable named name\n",
        "name = \"Rohit\"\n"
      ],
      "metadata": {
        "id": "HWpt_6qRHPXK"
      },
      "execution_count": 24,
      "outputs": []
    },
    {
      "cell_type": "markdown",
      "source": [
        "We can easily pass the variable name after initializing to see a result:"
      ],
      "metadata": {
        "id": "xdDpQKmhH9aD"
      }
    },
    {
      "cell_type": "code",
      "source": [
        "print(name)"
      ],
      "metadata": {
        "colab": {
          "base_uri": "https://localhost:8080/"
        },
        "id": "Kbx5EfMWH_04",
        "outputId": "d38e9f93-a2ad-4173-fc92-fb10bd0ec1ed"
      },
      "execution_count": 25,
      "outputs": [
        {
          "output_type": "stream",
          "name": "stdout",
          "text": [
            "Rohit\n"
          ]
        }
      ]
    },
    {
      "cell_type": "markdown",
      "source": [
        "## More about variable names:\n",
        "\n",
        "Legal variable names:\n"
      ],
      "metadata": {
        "id": "k_OxQY-VIryM"
      }
    },
    {
      "cell_type": "code",
      "source": [
        "myvar = \"John\"\n",
        "my_var = \"John\"\n",
        "_my_var = \"John\"\n",
        "myVar = \"John\"\n",
        "MYVAR = \"John\"\n",
        "myvar2 = \"John\""
      ],
      "metadata": {
        "id": "n2mVDhAZJAGe"
      },
      "execution_count": 26,
      "outputs": []
    },
    {
      "cell_type": "markdown",
      "source": [
        "Illegal Variable names"
      ],
      "metadata": {
        "id": "O0hP8fOGJCw-"
      }
    },
    {
      "cell_type": "code",
      "source": [
        "# Uncomment these and run to see it fail:\n",
        "# 2myvar = \"John\"\n",
        "# my-var = \"John\"\n",
        "# my var = \"John\""
      ],
      "metadata": {
        "colab": {
          "base_uri": "https://localhost:8080/",
          "height": 130
        },
        "id": "eD2fRxZ5JBl8",
        "outputId": "0964892a-c190-47a6-c3b7-7d09e35f3ebe"
      },
      "execution_count": 27,
      "outputs": [
        {
          "output_type": "error",
          "ename": "SyntaxError",
          "evalue": "ignored",
          "traceback": [
            "\u001b[0;36m  File \u001b[0;32m\"<ipython-input-27-cc00ab2c8341>\"\u001b[0;36m, line \u001b[0;32m1\u001b[0m\n\u001b[0;31m    Uncomment these and run to see it fail:\u001b[0m\n\u001b[0m                  ^\u001b[0m\n\u001b[0;31mSyntaxError\u001b[0m\u001b[0;31m:\u001b[0m invalid syntax\n"
          ]
        }
      ]
    },
    {
      "cell_type": "markdown",
      "source": [
        "### Adding strings together\n",
        "You can add two or more strings together like this"
      ],
      "metadata": {
        "id": "utKhyZ2BJKbR"
      }
    },
    {
      "cell_type": "code",
      "source": [
        "print(\"hello \" + \"world\")"
      ],
      "metadata": {
        "id": "QHfAID6FJR2s"
      },
      "execution_count": null,
      "outputs": []
    },
    {
      "cell_type": "markdown",
      "source": [
        "Practice: Make a variable called greeting that says hello before the name variable, and then print it"
      ],
      "metadata": {
        "id": "c6MdbI-vJX5Z"
      }
    },
    {
      "cell_type": "code",
      "source": [
        "greeting = \"Hello \" + name\n",
        "print(greeting)"
      ],
      "metadata": {
        "id": "iUXIrhWvJgnL"
      },
      "execution_count": null,
      "outputs": []
    },
    {
      "cell_type": "markdown",
      "source": [
        "Practice: Make a variable called a and set it equal to the letter b and then print the variable"
      ],
      "metadata": {
        "id": "KsmM0ejLM4Gx"
      }
    },
    {
      "cell_type": "code",
      "source": [
        "a = \"b\"\n",
        "print(a)"
      ],
      "metadata": {
        "id": "K5sYkm3hNB81"
      },
      "execution_count": null,
      "outputs": []
    },
    {
      "cell_type": "markdown",
      "source": [
        "### Input:\n",
        "input() is a function that returns you a string from the console. Test it out here:"
      ],
      "metadata": {
        "id": "bzvuT48SKgpw"
      }
    },
    {
      "cell_type": "code",
      "source": [
        "your_name = input()\n",
        "print(\"Hello, \" + your_name)"
      ],
      "metadata": {
        "colab": {
          "base_uri": "https://localhost:8080/"
        },
        "id": "1FhKLF13JqTF",
        "outputId": "9cbaa4c6-7a85-4a86-d2cf-842cf6711a23"
      },
      "execution_count": null,
      "outputs": [
        {
          "output_type": "stream",
          "name": "stdout",
          "text": [
            "Rohit\n",
            "Hello, Rohit\n"
          ]
        }
      ]
    },
    {
      "cell_type": "markdown",
      "source": [
        "You can also put in a string inside input() to make the console print something on the line you type a response"
      ],
      "metadata": {
        "id": "3hI4SRkoK0Y0"
      }
    },
    {
      "cell_type": "code",
      "source": [
        "adjective = input(\"Put in an adjective here: \")\n",
        "noun = input(\"Put in a noun here: \")\n",
        "\n",
        "print(\"That is a really \" + adjective + \" \" + noun)"
      ],
      "metadata": {
        "colab": {
          "base_uri": "https://localhost:8080/"
        },
        "id": "EW6hUMazLE8T",
        "outputId": "1120e589-27b6-409f-b3c6-0727b07c2492"
      },
      "execution_count": null,
      "outputs": [
        {
          "output_type": "stream",
          "name": "stdout",
          "text": [
            "Put in an adjective here: silly\n",
            "Put in a noun here: string\n",
            "That is a really silly string\n"
          ]
        }
      ]
    },
    {
      "cell_type": "markdown",
      "source": [
        "Practice: Make an adlib game. Ask the user for different types of words and combine them to make a silly story. If you don't know what an adlib game is, try this website [here](https://www.mydigitalchalkboard.org/portal/default/Resources/Viewer/ResourceViewer?action=2&resid=53577)\n"
      ],
      "metadata": {
        "id": "2veOfDK3MYzs"
      }
    },
    {
      "cell_type": "markdown",
      "source": [
        "## Numbers\n",
        "Numbers are another data type in python. There are different types of numbers but the most important ones to know are:\n",
        "\n",
        "* Integers - Numbers without decimals\n",
        "* Floats - Numbers with decimals\n",
        "\n",
        "Important thing to realize is that numbers do not have quotes surrounding them. Here are examples of each:"
      ],
      "metadata": {
        "id": "hzrhM9tYN-Co"
      }
    },
    {
      "cell_type": "code",
      "source": [
        "my_integer = 1\n",
        "my_float = 1.1\n",
        "print(my_integer)\n",
        "print(my_float)"
      ],
      "metadata": {
        "colab": {
          "base_uri": "https://localhost:8080/"
        },
        "id": "mODtD9BLOh1y",
        "outputId": "2a7c7eb1-09e2-4158-c4b9-762ecfb80612"
      },
      "execution_count": null,
      "outputs": [
        {
          "output_type": "stream",
          "name": "stdout",
          "text": [
            "1\n",
            "1.1\n"
          ]
        }
      ]
    },
    {
      "cell_type": "markdown",
      "source": [
        "### Manipulating Numbers\n",
        "\n",
        "You can do regular math operations on numbers using +, -, *, and / to add, subtract, multiply and divide two numbers respectively\n",
        "\n",
        "Since you can do these on numbers, you can also do them on number variables too\n",
        "\n",
        "Try these out:"
      ],
      "metadata": {
        "id": "Ejsvaq7TOomm"
      }
    },
    {
      "cell_type": "code",
      "source": [
        "print(5 + 3)\n",
        "print(1 - 2)\n",
        "print(2 * 3)\n",
        "print(5 / 7)"
      ],
      "metadata": {
        "id": "4QEZ0hM-O0Gw"
      },
      "execution_count": null,
      "outputs": []
    },
    {
      "cell_type": "code",
      "source": [
        "my_integer = 3\n",
        "my_float = 6\n",
        "my_division = my_float / my_integer\n",
        "print(my_division)"
      ],
      "metadata": {
        "id": "z3VmZeCyPWaw"
      },
      "execution_count": null,
      "outputs": []
    },
    {
      "cell_type": "code",
      "source": [
        "a = 3\n",
        "b = 2\n",
        "print(a * b)"
      ],
      "metadata": {
        "id": "avad0UPuPW1d"
      },
      "execution_count": null,
      "outputs": []
    },
    {
      "cell_type": "markdown",
      "source": [
        "Practice: \n",
        "\n",
        "Make variables d and e, d is equal to 5, e is equal to 10. \n",
        "\n",
        "Print d - e without making a new variable"
      ],
      "metadata": {
        "id": "a9AgMVQPPrUW"
      }
    },
    {
      "cell_type": "code",
      "source": [
        "d = 5\n",
        "e = 10\n",
        "print(d - e)"
      ],
      "metadata": {
        "id": "5HzQfP2lP4qy"
      },
      "execution_count": null,
      "outputs": []
    },
    {
      "cell_type": "markdown",
      "source": [
        "Practice:\n",
        "\n",
        "Make variables my_num and my_other_num, set these variables to whatever number you want\n",
        "\n",
        "Make a variable called quotient that is equal to my_num times my_other_num\n",
        "\n",
        "print quotient - 1"
      ],
      "metadata": {
        "id": "nYUdyC5CQT45"
      }
    },
    {
      "cell_type": "code",
      "source": [
        "my_num = 10\n",
        "my_other_num = 12\n",
        "quotient = my_num * my_other_num\n",
        "print(quotient - 1)"
      ],
      "metadata": {
        "id": "ec7uPWBaQaZW"
      },
      "execution_count": null,
      "outputs": []
    },
    {
      "cell_type": "markdown",
      "source": [
        "### Adding to a variable\n",
        "\n",
        "Adding to an existing variable is easy\n",
        "\n",
        "Lets say:"
      ],
      "metadata": {
        "id": "XamHUK9nQdDb"
      }
    },
    {
      "cell_type": "code",
      "source": [
        "a = 3"
      ],
      "metadata": {
        "id": "5V1Xj33hQxek"
      },
      "execution_count": null,
      "outputs": []
    },
    {
      "cell_type": "markdown",
      "source": [
        "and we want to add 5. We could do it like this"
      ],
      "metadata": {
        "id": "RKenPK72Q2ua"
      }
    },
    {
      "cell_type": "code",
      "source": [
        "a += 5\n",
        "print(a)"
      ],
      "metadata": {
        "colab": {
          "base_uri": "https://localhost:8080/"
        },
        "id": "iNkFMN8gQ5qb",
        "outputId": "3e4f05e0-6415-44a4-f0e2-b570504d8bb1"
      },
      "execution_count": null,
      "outputs": [
        {
          "output_type": "stream",
          "name": "stdout",
          "text": [
            "8\n"
          ]
        }
      ]
    },
    {
      "cell_type": "markdown",
      "source": [
        "You can do this with other math operators too:\n",
        "\n",
        "* += adds\n",
        "* -= subtracts\n",
        "* *= multiplies\n",
        "* /= divides "
      ],
      "metadata": {
        "id": "JfG11JJsQ9K1"
      }
    },
    {
      "cell_type": "code",
      "source": [
        "number = 24\n",
        "divisor = 4\n",
        "number /= divisor\n",
        "print(number) "
      ],
      "metadata": {
        "id": "SnwoImYiREco"
      },
      "execution_count": null,
      "outputs": []
    },
    {
      "cell_type": "markdown",
      "source": [
        "### Adding Strings and Numbers\n",
        "\n",
        "We cannot add number and strings together as they are of different types. This doesn't work:"
      ],
      "metadata": {
        "id": "YOf1qStHRqqI"
      }
    },
    {
      "cell_type": "code",
      "source": [
        "# my_num = 3\n",
        "# my_string = \"4\"\n",
        "# print(my_num + my_string)"
      ],
      "metadata": {
        "colab": {
          "base_uri": "https://localhost:8080/",
          "height": 200
        },
        "id": "MDrBYgE3Rt4j",
        "outputId": "d18a05d6-0f78-409e-efbc-b4da5de7ef7e"
      },
      "execution_count": null,
      "outputs": [
        {
          "output_type": "error",
          "ename": "TypeError",
          "evalue": "ignored",
          "traceback": [
            "\u001b[0;31m---------------------------------------------------------------------------\u001b[0m",
            "\u001b[0;31mTypeError\u001b[0m                                 Traceback (most recent call last)",
            "\u001b[0;32m<ipython-input-20-160a81845e62>\u001b[0m in \u001b[0;36m<module>\u001b[0;34m()\u001b[0m\n\u001b[1;32m      1\u001b[0m \u001b[0mmy_num\u001b[0m \u001b[0;34m=\u001b[0m \u001b[0;36m3\u001b[0m\u001b[0;34m\u001b[0m\u001b[0;34m\u001b[0m\u001b[0m\n\u001b[1;32m      2\u001b[0m \u001b[0mmy_string\u001b[0m \u001b[0;34m=\u001b[0m \u001b[0;34m\"4\"\u001b[0m\u001b[0;34m\u001b[0m\u001b[0;34m\u001b[0m\u001b[0m\n\u001b[0;32m----> 3\u001b[0;31m \u001b[0mprint\u001b[0m\u001b[0;34m(\u001b[0m\u001b[0mmy_num\u001b[0m \u001b[0;34m+\u001b[0m \u001b[0mmy_string\u001b[0m\u001b[0;34m)\u001b[0m\u001b[0;34m\u001b[0m\u001b[0;34m\u001b[0m\u001b[0m\n\u001b[0m",
            "\u001b[0;31mTypeError\u001b[0m: unsupported operand type(s) for +: 'int' and 'str'"
          ]
        }
      ]
    },
    {
      "cell_type": "markdown",
      "source": [
        "This also doesn't work:"
      ],
      "metadata": {
        "id": "otxitHDWSY6i"
      }
    },
    {
      "cell_type": "code",
      "source": [
        "print(\"Your number is \" + 3) # Also doesn't work"
      ],
      "metadata": {
        "id": "1VASA5tJSaGb",
        "colab": {
          "base_uri": "https://localhost:8080/",
          "height": 200
        },
        "outputId": "d95ad86d-e671-421b-f0ad-7b954430eef0"
      },
      "execution_count": 28,
      "outputs": [
        {
          "output_type": "error",
          "ename": "TypeError",
          "evalue": "ignored",
          "traceback": [
            "\u001b[0;31m---------------------------------------------------------------------------\u001b[0m",
            "\u001b[0;31mTypeError\u001b[0m                                 Traceback (most recent call last)",
            "\u001b[0;32m<ipython-input-28-eec25159929e>\u001b[0m in \u001b[0;36m<module>\u001b[0;34m()\u001b[0m\n\u001b[0;32m----> 1\u001b[0;31m \u001b[0mprint\u001b[0m\u001b[0;34m(\u001b[0m\u001b[0;34m\"Your number is \"\u001b[0m \u001b[0;34m+\u001b[0m \u001b[0;36m3\u001b[0m\u001b[0;34m)\u001b[0m \u001b[0;31m# Also doesn't work\u001b[0m\u001b[0;34m\u001b[0m\u001b[0;34m\u001b[0m\u001b[0m\n\u001b[0m",
            "\u001b[0;31mTypeError\u001b[0m: can only concatenate str (not \"int\") to str"
          ]
        }
      ]
    },
    {
      "cell_type": "markdown",
      "source": [
        "Instead what we have to do is convert one or more of these values to ensure all operands (the values being operated on) are the same type"
      ],
      "metadata": {
        "id": "79IhsEPXScZS"
      }
    },
    {
      "cell_type": "markdown",
      "source": [
        "### Convert from strings to numbers\n",
        "Use int() to convert a string to an integer (a number without a decimal)\n"
      ],
      "metadata": {
        "id": "SfVK702ASq4K"
      }
    },
    {
      "cell_type": "code",
      "source": [
        "string_number = \"4\"\n",
        "print(3 + int(string_number))"
      ],
      "metadata": {
        "colab": {
          "base_uri": "https://localhost:8080/"
        },
        "id": "8fFuIQCASvda",
        "outputId": "28bb480b-c945-4d16-9abe-515a5d9b43bb"
      },
      "execution_count": null,
      "outputs": [
        {
          "output_type": "stream",
          "name": "stdout",
          "text": [
            "7\n"
          ]
        }
      ]
    },
    {
      "cell_type": "markdown",
      "source": [
        "Use float() if your number has a decimal value"
      ],
      "metadata": {
        "id": "iopB_SscS6kS"
      }
    },
    {
      "cell_type": "code",
      "source": [
        "string_decimal = \"3.1\"\n",
        "print(1.1 + float(string_decimal))"
      ],
      "metadata": {
        "id": "pDc0tyGUS-SW"
      },
      "execution_count": null,
      "outputs": []
    },
    {
      "cell_type": "markdown",
      "source": [
        "You have to use a string that can give you a valid integer or float. Otherwise you get an error like this:"
      ],
      "metadata": {
        "id": "Ho1f4MMiTD-B"
      }
    },
    {
      "cell_type": "code",
      "source": [
        "# print(int(\"Bruh\"))"
      ],
      "metadata": {
        "colab": {
          "base_uri": "https://localhost:8080/",
          "height": 165
        },
        "id": "djdLORtoTIC6",
        "outputId": "5cfb27b4-8c91-41fc-d37e-17395ac1f908"
      },
      "execution_count": null,
      "outputs": [
        {
          "output_type": "error",
          "ename": "ValueError",
          "evalue": "ignored",
          "traceback": [
            "\u001b[0;31m---------------------------------------------------------------------------\u001b[0m",
            "\u001b[0;31mValueError\u001b[0m                                Traceback (most recent call last)",
            "\u001b[0;32m<ipython-input-22-11ef9113f19a>\u001b[0m in \u001b[0;36m<module>\u001b[0;34m()\u001b[0m\n\u001b[0;32m----> 1\u001b[0;31m \u001b[0mprint\u001b[0m\u001b[0;34m(\u001b[0m\u001b[0mint\u001b[0m\u001b[0;34m(\u001b[0m\u001b[0;34m\"Bruh\"\u001b[0m\u001b[0;34m)\u001b[0m\u001b[0;34m)\u001b[0m\u001b[0;34m\u001b[0m\u001b[0;34m\u001b[0m\u001b[0m\n\u001b[0m",
            "\u001b[0;31mValueError\u001b[0m: invalid literal for int() with base 10: 'Bruh'"
          ]
        }
      ]
    },
    {
      "cell_type": "markdown",
      "source": [
        "### Convert from numbers to string\n",
        "Use str() to convert a number to a string"
      ],
      "metadata": {
        "id": "nbcfVm2DTBAn"
      }
    },
    {
      "cell_type": "code",
      "source": [
        "print(\"Your number is \" + str(3))"
      ],
      "metadata": {
        "id": "7e1sC8cxTYi_"
      },
      "execution_count": null,
      "outputs": []
    },
    {
      "cell_type": "markdown",
      "source": [
        "This lets you do math and still add strings together"
      ],
      "metadata": {
        "id": "T0C54sUge402"
      }
    },
    {
      "cell_type": "code",
      "source": [
        "a = 3\n",
        "b = 4\n",
        "print(\"Your sum is \" + str(a + b))"
      ],
      "metadata": {
        "id": "ACDpWgJqe7y_"
      },
      "execution_count": null,
      "outputs": []
    },
    {
      "cell_type": "markdown",
      "source": [
        "### Getting Numbers with Input\n",
        "\n",
        "By default, input() returns you a string value"
      ],
      "metadata": {
        "id": "s1gGdDTmfDvX"
      }
    },
    {
      "cell_type": "code",
      "source": [
        "# print(1 + input()) # will give you an error\n",
        "print(1 + int(input())) # Works"
      ],
      "metadata": {
        "id": "Zrtb25flfICC"
      },
      "execution_count": null,
      "outputs": []
    },
    {
      "cell_type": "markdown",
      "source": [
        "What does this code do?"
      ],
      "metadata": {
        "id": "3vDOHYA3fK2Q"
      }
    },
    {
      "cell_type": "code",
      "source": [
        "your_number = int(input())\n",
        "print(\"1\" + str(your_number) + \"1\")"
      ],
      "metadata": {
        "id": "tjTgm_fsfMH0"
      },
      "execution_count": null,
      "outputs": []
    },
    {
      "cell_type": "markdown",
      "source": [
        "## Boolean values\n",
        "\n",
        "Boolean values are really simple. \n",
        "\n",
        "\n",
        "They're either True, or False"
      ],
      "metadata": {
        "id": "8w3LEjoZfU-0"
      }
    },
    {
      "cell_type": "code",
      "source": [
        "my_bool = True\n",
        "my_false_bool = False\n",
        "print(my_bool)\n",
        "print(my_false_bool)"
      ],
      "metadata": {
        "colab": {
          "base_uri": "https://localhost:8080/"
        },
        "id": "GgJV01j2fc2W",
        "outputId": "332734c3-6370-48de-f653-b68d63cfa627"
      },
      "execution_count": 29,
      "outputs": [
        {
          "output_type": "stream",
          "name": "stdout",
          "text": [
            "True\n",
            "False\n"
          ]
        }
      ]
    },
    {
      "cell_type": "markdown",
      "source": [
        "### Logical Operators\n",
        "\n",
        "You can use \"Logical Operators\" to evaluate simple logic\n",
        "\n",
        "The logical operators are and, or, not\n",
        "\n",
        "Try them out:"
      ],
      "metadata": {
        "id": "ZYZMmUBHfilW"
      }
    },
    {
      "cell_type": "code",
      "source": [
        "my_truth_value = True or False \n",
        "print(my_truth_value)"
      ],
      "metadata": {
        "id": "6WoeJosnf9G2"
      },
      "execution_count": null,
      "outputs": []
    },
    {
      "cell_type": "code",
      "source": [
        "my_truth_value = True and False \n",
        "print(my_truth_value)"
      ],
      "metadata": {
        "id": "qL5MSiOjf_7s"
      },
      "execution_count": null,
      "outputs": []
    },
    {
      "cell_type": "code",
      "source": [
        "my_truth_value = not False \n",
        "print(my_truth_value)"
      ],
      "metadata": {
        "id": "3IHN90cmgEFz"
      },
      "execution_count": null,
      "outputs": []
    },
    {
      "cell_type": "markdown",
      "source": [
        "You can also chain them together like so:"
      ],
      "metadata": {
        "id": "kfmNRyBigH_W"
      }
    },
    {
      "cell_type": "code",
      "source": [
        "is_false = (True or False) and False\n",
        "print(is_false)"
      ],
      "metadata": {
        "colab": {
          "base_uri": "https://localhost:8080/"
        },
        "id": "CgoUqOx5gKGv",
        "outputId": "7b5cbc87-42d1-42b9-a25b-c5ffa1130ea8"
      },
      "execution_count": 30,
      "outputs": [
        {
          "output_type": "stream",
          "name": "stdout",
          "text": [
            "False\n"
          ]
        }
      ]
    },
    {
      "cell_type": "markdown",
      "source": [
        "What does this print?"
      ],
      "metadata": {
        "id": "YRi0G374gMPp"
      }
    },
    {
      "cell_type": "code",
      "source": [
        "a = False\n",
        "b = True\n",
        "print((a and b) or not (not a and not b))"
      ],
      "metadata": {
        "colab": {
          "base_uri": "https://localhost:8080/"
        },
        "id": "GUAtTtRLgNtW",
        "outputId": "453251df-0d94-451d-da08-8035c75db14f"
      },
      "execution_count": 37,
      "outputs": [
        {
          "output_type": "stream",
          "name": "stdout",
          "text": [
            "True\n"
          ]
        }
      ]
    },
    {
      "cell_type": "markdown",
      "source": [
        "### Conditional Operators:\n",
        "\n",
        "These operators return true or false based on certain conditions\n",
        "\n",
        "They are:\n",
        "\n",
        "\\> (greater than)\n",
        "\n",
        "== (equal to)\n",
        "\n",
        "< (less than)\n",
        "\n",
        "<= (less than equal to)\n",
        "\n",
        "\\>= (greater than equal to)\n",
        "\n",
        "!= (not equal to)"
      ],
      "metadata": {
        "id": "1E-_F2sOgdEM"
      }
    },
    {
      "cell_type": "code",
      "source": [
        "a = 1\n",
        "b = 2\n",
        "print(a > b) # Prints False because 1 is not greater than 2"
      ],
      "metadata": {
        "id": "9lGqX2v3g2D1"
      },
      "execution_count": null,
      "outputs": []
    },
    {
      "cell_type": "markdown",
      "source": [
        "Practice: \n",
        "\n",
        "Make three variables and compare then with at least 4 different conditional operators and 2 different logical operators\n",
        "\n",
        "At least one should print true and one should print false"
      ],
      "metadata": {
        "id": "7VD4dEkOg4iU"
      }
    }
  ]
}