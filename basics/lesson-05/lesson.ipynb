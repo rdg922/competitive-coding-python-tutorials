{
  "nbformat": 4,
  "nbformat_minor": 0,
  "metadata": {
    "colab": {
      "name": "Lesson 5.ipynb",
      "provenance": [],
      "collapsed_sections": [],
      "authorship_tag": "ABX9TyMoAo6YMQ2RDK9IH2Bt30Dp",
      "include_colab_link": true
    },
    "kernelspec": {
      "name": "python3",
      "display_name": "Python 3"
    },
    "language_info": {
      "name": "python"
    }
  },
  "cells": [
    {
      "cell_type": "markdown",
      "metadata": {
        "id": "view-in-github",
        "colab_type": "text"
      },
      "source": [
        "<a href=\"https://colab.research.google.com/github/rdg922/python-lessons/blob/master/basics/lesson-05/lesson.ipynb\" target=\"_parent\"><img src=\"https://colab.research.google.com/assets/colab-badge.svg\" alt=\"Open In Colab\"/></a>"
      ]
    },
    {
      "cell_type": "markdown",
      "source": [
        "# Lesson 5 Lists Searching and Writing\n",
        "* Searching:\n",
        "  * Linear Scan\n",
        "  * Matching\n",
        "  * Binary Search\n",
        "* Writing to lists:\n",
        "  * Functions with lists\n",
        "  * Adding to a list with append()\n",
        "  * Extending Lists"
      ],
      "metadata": {
        "id": "IILN0_ts8ocM"
      }
    },
    {
      "cell_type": "code",
      "source": [
        "\"\"\"\n",
        "READ THE WORDS TODAY. ITS IMPORTANT!!\n",
        "\"\"\""
      ],
      "metadata": {
        "id": "lKa1h3S8AGVw"
      },
      "execution_count": null,
      "outputs": []
    },
    {
      "cell_type": "markdown",
      "source": [
        "# Searching:\n",
        "We've learned how to find an element in a list. But that makes us look at the entire list in the worst case. What if we wanted to search for an element faster? We also do not know yet how to find if two elements match. That is what we will try to learn today,"
      ],
      "metadata": {
        "id": "ugOomWlT-FWo"
      }
    },
    {
      "cell_type": "markdown",
      "source": [
        "### Linear Scan"
      ],
      "metadata": {
        "id": "YMfdQmxiBiqc"
      }
    },
    {
      "cell_type": "markdown",
      "source": [
        "Practice: Make a list of whatever numbers you want. Take in an input, and print whether that number is in the list. Do NOT use the \"in\" keyword.\n",
        "\n",
        "Here's a way to do it:\n",
        "1. Make your list with whatever integers you want\n",
        "2. Take an integer value from the input\n",
        "3. Make a boolean variable that is set to False, this variable will be updated inside the for loop IF you find the number.\n",
        "4. Make a for loop to iterate through the list (either the indexes or elements)\n",
        "5. Inside each iteration, an if statement should check if the current number is the variable taken from input. You should not call input inside the for loop.\n",
        "6. If the current integer and the input variable match, print that the number has been found, set the boolean variable (the one set to false) to True, and break.\n",
        "7. Outside the for loop, print that the number was not found if your boolean variable is still false"
      ],
      "metadata": {
        "id": "KoEZCX-LBmOV"
      }
    },
    {
      "cell_type": "code",
      "source": [
        "#@title Solution\n",
        "\n",
        "\n",
        "my_list = [1, 2, 3, 4, 5]\n",
        "searched_valud = int(input())\n",
        "\n",
        "# Slightly more efficient\n",
        "found_it = False\n",
        "for num in my_list:\n",
        "  if num == searched_value:\n",
        "    print(\"Found it!\")\n",
        "    found_it = True\n",
        "    break;\n",
        "if not found_it:\n",
        "  print(\"Not found it!\")\n",
        "\n",
        "# Another way to do it\n",
        "# found_it = False\n",
        "# for num in my_list:\n",
        "#   if num == searched_value:\n",
        "#     found_it = True\n",
        "# if not found_it:\n",
        "#   print(\"Not found it!\")\n",
        "# else:\n",
        "#   print(\"found it!\")\n"
      ],
      "metadata": {
        "id": "VVA-jPlrBFVT",
        "cellView": "form"
      },
      "execution_count": null,
      "outputs": []
    },
    {
      "cell_type": "code",
      "source": [
        ""
      ],
      "metadata": {
        "id": "7otQSVoDIvvk"
      },
      "execution_count": null,
      "outputs": []
    },
    {
      "cell_type": "markdown",
      "source": [
        "### Matching\n",
        "\n",
        "You need to use two for loops for this:\n",
        "\n",
        "What does the code below do? What happens when you change the numbers in the list?\n"
      ],
      "metadata": {
        "id": "S025RdlfIwDi"
      }
    },
    {
      "cell_type": "code",
      "source": [
        "my_list = [1, 2, 3, 4, 3]\n",
        "for i in range(len(my_list)):\n",
        "  for j in range(i, len(my_list)):\n",
        "    if j == i:\n",
        "      continue\n",
        "    if my_list[i] == my_list[j]:\n",
        "      print(my_list[i])"
      ],
      "metadata": {
        "id": "NfXs8An2JvGY"
      },
      "execution_count": null,
      "outputs": []
    },
    {
      "cell_type": "code",
      "source": [
        "\"\"\" Type your response here:\n",
        "\n",
        "\"\"\""
      ],
      "metadata": {
        "id": "jv761T98PMyN"
      },
      "execution_count": null,
      "outputs": []
    },
    {
      "cell_type": "markdown",
      "source": [
        "Practice: With a list that you create, print the indexes of where two elements match, where the indexes cannot be the same number."
      ],
      "metadata": {
        "id": "kVAAuezsQZPg"
      }
    },
    {
      "cell_type": "code",
      "source": [
        "#@title Solution\n",
        "my_list = [1, 2, 3, 4, 3]\n",
        "for i in range(len(my_list)):\n",
        "  for j in range(i, len(my_list)):\n",
        "    if j == i:\n",
        "      continue\n",
        "    if my_list[i] == my_list[j]:\n",
        "      print(i, j)"
      ],
      "metadata": {
        "cellView": "form",
        "id": "dzZOtxR8Qh5U"
      },
      "execution_count": null,
      "outputs": []
    },
    {
      "cell_type": "code",
      "source": [
        ""
      ],
      "metadata": {
        "id": "6Qi9O-dkQtrx"
      },
      "execution_count": null,
      "outputs": []
    },
    {
      "cell_type": "markdown",
      "source": [
        "Practice: With a list that you create, do the above practice, but where THREE elements match. Make sure to use ```continue``` where NONE of the indexes match (using if statements, or/and's, and ==/!='s)"
      ],
      "metadata": {
        "id": "KAxNyMlkQwvK"
      }
    },
    {
      "cell_type": "code",
      "source": [
        "#@title Solution\n",
        "my_list = [1, 2, 3, 4, 3, 3]\n",
        "for i in range(len(my_list)):\n",
        "  for j in range(i, len(my_list)):\n",
        "    for k in range(j, len(my_list)):\n",
        "      if i == j or i == k or j == k: continue\n",
        "      if my_list[i] == my_list[j] and my_list[j] == my_list[k]:\n",
        "          print(i, j, k)"
      ],
      "metadata": {
        "cellView": "form",
        "id": "6aeLjAxyQwaT"
      },
      "execution_count": null,
      "outputs": []
    },
    {
      "cell_type": "code",
      "source": [
        ""
      ],
      "metadata": {
        "id": "V12heAqNRkGI"
      },
      "execution_count": null,
      "outputs": []
    },
    {
      "cell_type": "markdown",
      "source": [
        "## Binary Search"
      ],
      "metadata": {
        "id": "dyFIe_F9_vJS"
      }
    },
    {
      "cell_type": "markdown",
      "source": [
        "Imagine searching through a dictionary for a word. You wouldn't start at the very beginning and then go through every word in the dictionary. Instead you would start somewhere in the middle and go to the left or right depending on the word in the middle. \n",
        "\n",
        "If the word you're on is lower in the alphabet than the one you're looking at, you'll look at the second half. If not, you'd look at the first half. You'd be \"dividing\" the dictionary in half. If you were to repeat your first step, this time in the middle of the section you 'divided' you would get a lot closer to your word.\n",
        "\n",
        "That is Binary search, the way of dividing and conquering a sorted list into segments.\n",
        "\n",
        "Try this out: [Interactive Binary Search](https://yongdanielliang.github.io/animation/web/BinarySearchNew.html)\n",
        "\n",
        "<details closed>\n",
        "<summary>Hint #1</summary>\n",
        "Use a while loop\n",
        "</details>\n",
        "\n",
        "<details closed>\n",
        "<summary>Hint #2</summary>\n",
        "Use two variables, one that 'points' (is the index to) to the left, and the right that will update to the section you want. Compute the middle and update either the left and right values accordingly\n",
        "</details>\n",
        "\n",
        "<details closed>\n",
        "<summary>Hint #2</summary>\n",
        "The 'middle' is the average of two numbers: (a+b)/2\n",
        "</details>\n",
        "\n",
        "<details closed>\n",
        "<summary>Hint #3</summary>\n",
        "After 20 minutes you guys are allowed to google this and figure it out\n",
        "</details>"
      ],
      "metadata": {
        "id": "VJqONt_w_xiL"
      }
    },
    {
      "cell_type": "markdown",
      "source": [
        "Practice: Take in an integer variable from input. Print the index of where that variable is in the list *my_list*, or -1 if its not in the list. Your integer variable will be between 1 and 20."
      ],
      "metadata": {
        "id": "Rj3WR4_9Kkfr"
      }
    },
    {
      "cell_type": "code",
      "source": [
        "#@title Hidden list.\n",
        "my_list = [1, 4, 5, 7, 8, 9, 12, 13, 14, 17, 18, 20]"
      ],
      "metadata": {
        "cellView": "form",
        "id": "z3yMwUCULp_D"
      },
      "execution_count": null,
      "outputs": []
    },
    {
      "cell_type": "code",
      "source": [
        "#@title Solution\n",
        "\n",
        "#This one is a doozy:\n",
        "target = int(input())\n",
        "left = 0\n",
        "right = len(my_list)\n",
        "found_it = False\n",
        "while (right - left) > 0 and not found_it:\n",
        "  mid = int((right + left) / 2)\n",
        "  if target > my_list[mid]:\n",
        "    left = mid + 1\n",
        "  elif target < my_list[mid]:\n",
        "    right = mid - 1\n",
        "  if my_list[mid] == target:\n",
        "    print(\"found it!\")\n",
        "    found_it = True\n",
        "if not found_it:\n",
        "  print(found_it)\n"
      ],
      "metadata": {
        "cellView": "form",
        "id": "qZw4ruA6KhRN"
      },
      "execution_count": null,
      "outputs": []
    },
    {
      "cell_type": "code",
      "source": [
        ""
      ],
      "metadata": {
        "id": "2b32B6mOPK9a"
      },
      "execution_count": null,
      "outputs": []
    },
    {
      "cell_type": "markdown",
      "source": [
        "## Writing to lists:\n",
        "\n",
        "Writing to lists is really simple as long as you know the index:\n",
        "\n",
        "Uncomment the line below"
      ],
      "metadata": {
        "id": "ZFLxEK61R6YL"
      }
    },
    {
      "cell_type": "code",
      "source": [
        "names = [\"Rhhit\", \"Barock\", \"Harrison\"] # I mispelled my name!\n",
        "#names[0] = \"Rohit\" # uncomment this line\n",
        "print(names[0])"
      ],
      "metadata": {
        "id": "toPGTlSqST_K"
      },
      "execution_count": null,
      "outputs": []
    },
    {
      "cell_type": "markdown",
      "source": [
        "Practice: Find the number 3 and change it to 1 in the list *my_list* below. Then print it"
      ],
      "metadata": {
        "id": "jSSdeGEveKRk"
      }
    },
    {
      "cell_type": "code",
      "source": [
        "#@title Do not change this cell!\n",
        "my_list = [1, 1, 3]\n",
        "print(my_list)"
      ],
      "metadata": {
        "cellView": "form",
        "id": "hyeL9PB1eOrk"
      },
      "execution_count": null,
      "outputs": []
    },
    {
      "cell_type": "code",
      "source": [
        "#@title Solution\n",
        "my_list[2] = 1\n",
        "print(my_list)"
      ],
      "metadata": {
        "cellView": "form",
        "id": "zv-t-shFeW_V"
      },
      "execution_count": null,
      "outputs": []
    },
    {
      "cell_type": "code",
      "source": [
        ""
      ],
      "metadata": {
        "id": "D4kNH2O7euvs"
      },
      "execution_count": null,
      "outputs": []
    },
    {
      "cell_type": "markdown",
      "source": [
        "You can also change the last element using negative indexing"
      ],
      "metadata": {
        "id": "Jls0nZlLe0NV"
      }
    },
    {
      "cell_type": "code",
      "source": [
        "my_list[-1] = 100\n",
        "print(my_list)"
      ],
      "metadata": {
        "id": "afL-Kgmme28O"
      },
      "execution_count": null,
      "outputs": []
    },
    {
      "cell_type": "markdown",
      "source": [
        "You can also use loops with it"
      ],
      "metadata": {
        "id": "5Pc5UiJ7e62V"
      }
    },
    {
      "cell_type": "code",
      "source": [
        "my_list = [1, 2, 3, 4, 5]\n",
        "for i in range(len(my_list)):\n",
        "  my_list[i] = 1\n",
        "print(my_list)"
      ],
      "metadata": {
        "id": "j0fQbA2JfOOl"
      },
      "execution_count": null,
      "outputs": []
    },
    {
      "cell_type": "markdown",
      "source": [
        "Practice: With the hidden list *my_list*, add 1 to every number and then print it"
      ],
      "metadata": {
        "id": "xNT0maUlfnGL"
      }
    },
    {
      "cell_type": "code",
      "source": [
        "#@title Hidden list\n",
        "my_list = [1, 2, 3, 4]"
      ],
      "metadata": {
        "cellView": "form",
        "id": "pu_EUXGSfo-Z"
      },
      "execution_count": null,
      "outputs": []
    },
    {
      "cell_type": "code",
      "source": [
        "#@title Solution\n",
        "\n",
        "for i in range(len(my_list)):\n",
        "  my_list[i] += 1\n",
        "print(my_list)"
      ],
      "metadata": {
        "cellView": "form",
        "id": "vPqueOY0f3Yx"
      },
      "execution_count": null,
      "outputs": []
    },
    {
      "cell_type": "markdown",
      "source": [
        "### Functions with lists\n",
        "You can also use functions with your lists:"
      ],
      "metadata": {
        "id": "09E1PVy6jvBu"
      }
    },
    {
      "cell_type": "code",
      "source": [
        "def update(my_list):\n",
        "  my_list[0] += 2\n",
        "  return my_list\n",
        "\n",
        "print(update([1, 2, 3, 4, 5]))\n"
      ],
      "metadata": {
        "id": "cErFBCctkL61"
      },
      "execution_count": null,
      "outputs": []
    },
    {
      "cell_type": "markdown",
      "source": [
        "but be careful as editing the list in the function means editing the original list:"
      ],
      "metadata": {
        "id": "xt9poqSnkNuQ"
      }
    },
    {
      "cell_type": "code",
      "source": [
        "nums = [1, 2, 3, 4, 5]\n",
        "\n",
        "def update_first_item(my_list):\n",
        "  my_list[0] += 1\n",
        "  return my_list\n",
        "\n",
        "print(update_first_item(nums))\n",
        "print(my_list)\n",
        "# See how they're the same"
      ],
      "metadata": {
        "id": "Zb2WjT11j2aj"
      },
      "execution_count": null,
      "outputs": []
    },
    {
      "cell_type": "markdown",
      "source": [
        "Practice:\n",
        "\n",
        "Write a function *update_list* that will add one to every element where the element is either\n",
        "* Less than 4\n",
        "* Greater than or equal to 21\n",
        "* Odd\n",
        "\n",
        "\n",
        "or where the index is either\n",
        "* greater than 5"
      ],
      "metadata": {
        "id": "G1EGwoDPgjb0"
      }
    },
    {
      "cell_type": "code",
      "source": [
        "#@title Solution Function\n",
        "def update_list(my_list):\n",
        "  for i in range(len(my_list)):\n",
        "    num = my_list[i]\n",
        "    if num < 4 or num > 21 or num %2 == 1:\n",
        "      my_list[i]+=1\n",
        "    elif i > 10:\n",
        "      my_list[i]+=1\n",
        "  return my_list"
      ],
      "metadata": {
        "cellView": "form",
        "id": "bbMcg63xhEGa"
      },
      "execution_count": null,
      "outputs": []
    },
    {
      "cell_type": "code",
      "source": [
        "# Write your function here\n"
      ],
      "metadata": {
        "id": "ngZRvaECgjHD"
      },
      "execution_count": null,
      "outputs": []
    },
    {
      "cell_type": "code",
      "source": [
        "# Try out the function here:\n",
        "print(update_list([21, 20, 9]))"
      ],
      "metadata": {
        "colab": {
          "base_uri": "https://localhost:8080/"
        },
        "id": "c9NYHmtRhjyb",
        "outputId": "261943c6-a6d3-41f6-8964-0a05045c18f1"
      },
      "execution_count": null,
      "outputs": [
        {
          "output_type": "stream",
          "name": "stdout",
          "text": [
            "[22, 20, 10]\n"
          ]
        }
      ]
    },
    {
      "cell_type": "code",
      "source": [
        "#@title This will grade your function!\n",
        "def test(test_list, result_list, num):\n",
        "  if update_list(test_list) == result_list:\n",
        "    print(\"Passed Test #\" + str(num))\n",
        "  else:\n",
        "    print(\"Failed Test #\" +  str(num))\n",
        "    print(\"Try again\")\n",
        "  \n",
        "test([1, 2, 3, 4, 5, 6, 7, 8, 9], [2, 3, 4, 4, 6, 6, 8, 8, 10], 0)\n",
        "test([21, 20, 9], [22, 20, 10], 1)"
      ],
      "metadata": {
        "cellView": "form",
        "id": "AyHubBTriEbO"
      },
      "execution_count": null,
      "outputs": []
    },
    {
      "cell_type": "markdown",
      "source": [
        "### Adding to a list with .append()"
      ],
      "metadata": {
        "id": "g_R3ePyPkkyA"
      }
    },
    {
      "cell_type": "markdown",
      "source": [
        "If you try to write to an index that doesn't exist you'll get an IndexError:"
      ],
      "metadata": {
        "id": "u7emDsMTkomI"
      }
    },
    {
      "cell_type": "code",
      "source": [
        "a = [\"Hello\"]\n",
        "a[1] = \"World\" # Crashes"
      ],
      "metadata": {
        "id": "KM9gJQFtkrrF"
      },
      "execution_count": null,
      "outputs": []
    },
    {
      "cell_type": "markdown",
      "source": [
        "We can get around this with the following syntax:"
      ],
      "metadata": {
        "id": "uTsvIxTlk0PV"
      }
    },
    {
      "cell_type": "code",
      "source": [
        "my_sentence = [\"Hello\"]\n",
        "my_sentence.append(\"World\")\n",
        "print(my_sentence)"
      ],
      "metadata": {
        "id": "Q9q3esAjkzyd"
      },
      "execution_count": null,
      "outputs": []
    },
    {
      "cell_type": "markdown",
      "source": [
        "Write a function *add_one_to_list* that will take in a list, add the number 1 to it, and return it"
      ],
      "metadata": {
        "id": "0IWT1MdKlC_I"
      }
    },
    {
      "cell_type": "code",
      "source": [
        "#@title Solution\n",
        "def add_one_to_list(my_list):\n",
        "  my_list.append(1)\n",
        "  return my_list"
      ],
      "metadata": {
        "cellView": "form",
        "id": "0zxuWAnJlBdU"
      },
      "execution_count": null,
      "outputs": []
    },
    {
      "cell_type": "code",
      "source": [
        "# Your code here:"
      ],
      "metadata": {
        "id": "EnOBF047nSD6"
      },
      "execution_count": null,
      "outputs": []
    },
    {
      "cell_type": "code",
      "source": [
        "# Test your function\n",
        "print(add_one_to_list([1, 2, 3]))"
      ],
      "metadata": {
        "colab": {
          "base_uri": "https://localhost:8080/"
        },
        "id": "aSeDcg3cm-BH",
        "outputId": "3fed922c-49d8-4927-e060-181eaabfde2c"
      },
      "execution_count": null,
      "outputs": [
        {
          "output_type": "stream",
          "name": "stdout",
          "text": [
            "[1, 2, 3, 1]\n"
          ]
        }
      ]
    },
    {
      "cell_type": "code",
      "source": [
        "#@title This will grade your function!\n",
        "def test(test_list, result_list, num):\n",
        "  if add_one_to_list(test_list) == result_list:\n",
        "    print(\"Passed Test #\" + str(num))\n",
        "  else:\n",
        "    print(\"Failed Test #\" +  str(num))\n",
        "    print(\"Try again\")\n",
        "  \n",
        "test([1, 2, 3], [1, 2, 3, 1], 0)\n",
        "test([1, 2, 3, 4], [1, 2, 3, 4, 1], 1)\n",
        "test([], [1], 2)"
      ],
      "metadata": {
        "cellView": "form",
        "id": "d64xybyYmxqf"
      },
      "execution_count": null,
      "outputs": []
    },
    {
      "cell_type": "markdown",
      "source": [
        "### Extending Lists\n",
        "You can also add a list to another list with a + operator, this is called list extending."
      ],
      "metadata": {
        "id": "ST_4nTN1nXGP"
      }
    },
    {
      "cell_type": "code",
      "source": [
        "print([1, 2, 3] + [4, 5, 6])"
      ],
      "metadata": {
        "id": "a3sGwTCPnWty"
      },
      "execution_count": null,
      "outputs": []
    },
    {
      "cell_type": "markdown",
      "source": [
        "Practice: Add two lists together to a new variable and print it"
      ],
      "metadata": {
        "id": "p61v6LBNno2V"
      }
    },
    {
      "cell_type": "code",
      "source": [
        "#@title Example\n",
        "my_list = [4, 5, 6] + [7, 8, 9]\n",
        "print(my_list)"
      ],
      "metadata": {
        "cellView": "form",
        "id": "XuEpaC7hnsz2"
      },
      "execution_count": null,
      "outputs": []
    },
    {
      "cell_type": "markdown",
      "source": [
        "You can also use += with a variable"
      ],
      "metadata": {
        "id": "xx5nREMWn0fI"
      }
    },
    {
      "cell_type": "code",
      "source": [
        "my_list = [1, 2, 3]\n",
        "my_list += [4, 5, 6]\n",
        "print(my_list)"
      ],
      "metadata": {
        "id": "VFLDN1BDn2dB"
      },
      "execution_count": null,
      "outputs": []
    },
    {
      "cell_type": "markdown",
      "source": [
        "You can also multiply a list!"
      ],
      "metadata": {
        "id": "SW-Ynpozn6dV"
      }
    },
    {
      "cell_type": "code",
      "source": [
        "print([1] * 8)"
      ],
      "metadata": {
        "id": "LqGHwvyUn7-Q"
      },
      "execution_count": null,
      "outputs": []
    },
    {
      "cell_type": "markdown",
      "source": [
        "Try it out a bit more:\n",
        "* With Booleans,\n",
        "* Strings,\n",
        "* Floats"
      ],
      "metadata": {
        "id": "Aexuod0zn-Gk"
      }
    }
  ]
}